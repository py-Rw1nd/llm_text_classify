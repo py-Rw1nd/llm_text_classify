{
 "cells": [
  {
   "cell_type": "code",
   "execution_count": 1,
   "id": "8a7c21a9-5eb7-4fde-b16b-aec7d6f33e0c",
   "metadata": {},
   "outputs": [],
   "source": [
    "import os\n",
    "import torch\n",
    "import re\n",
    "import json\n",
    "# import gdown\n",
    "from datasets import Dataset\n",
    "import pandas as pd\n",
    "from peft import LoraConfig,get_peft_model,PeftModel\n",
    "from transformers import AutoModelForCausalLM, AutoTokenizer, TrainingArguments, BitsAndBytesConfig, GenerationConfig,TrainerCallback\n",
    "from tqdm.auto import tqdm\n",
    "from trl import DPOTrainer,DPOConfig,CPOTrainer,CPOConfig\n",
    "import random"
   ]
  },
  {
   "cell_type": "code",
   "execution_count": 2,
   "id": "f098cd53-000e-4c96-b43f-93ed2f12c16e",
   "metadata": {},
   "outputs": [],
   "source": [
    "train_dataset = Dataset.load_from_disk('autodl-tmp/dataset/rlhf_plus_c')"
   ]
  },
  {
   "cell_type": "code",
   "execution_count": 5,
   "id": "e76181e8-a2c6-4cba-a279-6fd718d03a14",
   "metadata": {},
   "outputs": [
    {
     "data": {
      "text/plain": [
       "{'user1': '#任务：以下是对卷烟产品的评论，按照分类标签内容语义进行评价，简要说明理由# 评论：review = \"这款烟在100左右的档次个人感觉性价比不错，假如拿它和20，30一包的烟去比性价比，那也许没几个人会选它。所以个人感觉口味和包装是个人喜好，性价比应该和这个档次的烟比，应该在8分左右。\"# 输出格式： \"分类标签\": \"A正面，B负面，C中性，D讽刺，E无产品评价语意\", \"理由\": \" \"',\n",
       " 'assistant1': '\"分类标签\": \"A正面\",\"理由\": \"评论者认为这款烟在其价格档次中性价比不错，给出了8分左右的高评价。虽然评论中提到了如果与更低价位的烟比较，其性价比可能不占优势，但整体上，评论者对产品的口味和包装表示满意，认为它符合个人喜好，因此整体语意偏向正面评价。\"',\n",
       " 'assistant2': '\"分类标签\": \"C中性\",\\n\"理由\": \"这段评论主要在讨论卷烟产品的性价比和与不同价格区间产品的比较，并给出了一个主观评分。评论者表达了个人对这款卷烟的看法，认为在100元左右的档次上，这款烟的性价比不错，适合与同档次的烟进行对比。虽然提到了个人口味和包装的喜好，但这些内容并未表达出明显的正面或负面情感倾向，因此可以归类为中性评价。\"',\n",
       " 'answer1': 'A正面',\n",
       " 'answer2': 'C中性'}"
      ]
     },
     "execution_count": 5,
     "metadata": {},
     "output_type": "execute_result"
    }
   ],
   "source": [
    "train_dataset[0]"
   ]
  },
  {
   "cell_type": "code",
   "execution_count": 4,
   "id": "06be8e0a-845e-4351-9347-8d0f6d4204f7",
   "metadata": {},
   "outputs": [],
   "source": [
    "def fix_format(x):\n",
    "    #x['prompt'] = x['prompt'].replace('<|im_start|>system\\n','').replace('<|im_end|>\\n<|im_start|>user\\n','').replace('<|im_end|>\\n<|im_start|>assistant\\n','').replace(', \"理由\": \" \"','?')\n",
    "    \n",
    "    # x['rejected'] = x['rejected'].replace('<|im_end|>\\n','')\n",
    "    # chosen_startwith = x['chosen'][0]\n",
    "    # rejected_startwith = x['rejected'][0]\n",
    "    # if chosen_startwith in 'ABCDE':\n",
    "        \n",
    "    #     x['chosen'] = '分类标签: '+x['chosen']\n",
    "    # if rejected_startwith in 'ABCDE':\n",
    "    #     x['rejected'] = '分类标签: '+x['rejected'] \n",
    "    x['prompt'] = \"你是语义分类器,\"+x['user1']\n",
    "    x['chosen'] = x['chosen'] + '<|im_end|>'\n",
    "    x['rejected'] = x['rejected'] + '<|im_end|>'\n",
    "    \n",
    "    return x"
   ]
  },
  {
   "cell_type": "code",
   "execution_count": 5,
   "id": "9c1737c1-9dbe-4ea1-9992-65e477ef7d59",
   "metadata": {},
   "outputs": [
    {
     "name": "stderr",
     "output_type": "stream",
     "text": [
      "Loading cached processed dataset at /root/autodl-tmp/dataset/rlhf_plus_fff/cache-a77d60998c914659.arrow\n"
     ]
    }
   ],
   "source": [
    "train_dataset = train_dataset.map(fix_format)"
   ]
  },
  {
   "cell_type": "code",
   "execution_count": 6,
   "id": "3246b332-9f8b-4627-9976-7d52a7c0de2a",
   "metadata": {},
   "outputs": [
    {
     "data": {
      "text/plain": [
       "{'prompt': ['<|im_start|>system\\nYou are a helpful assistant.<|im_end|>\\n<|im_start|>user\\n#任务：以下是对卷烟产品的评论，按照分类标签内容语义进行评价，简要说明理由# 评论：review = \"比五星红杉树要好抽\\\\xa0一点，有点苏烟的味道\"# 输出格式： \"分类标签\": \"A正面，B负面，C中性，D讽刺，E无产品评价语意\", \"理由\": \" \"<|im_end|>\\n<|im_start|>assistant\\n',\n",
       "  '<|im_start|>system\\nYou are a helpful assistant.<|im_end|>\\n<|im_start|>user\\n#任务：以下是对卷烟产品的评论，按照分类标签内容语义进行评价，简要说明理由# 评论：review = \"苏州地区无售,本人有幸收藏了一包。\\\\xa0包装精致。\"# 输出格式： \"分类标签\": \"A正面，B负面，C中性，D讽刺，E无产品评价语意\", \"理由\": \" \"<|im_end|>\\n<|im_start|>assistant\\n',\n",
       "  '<|im_start|>system\\nYou are a helpful assistant.<|im_end|>\\n<|im_start|>user\\n#任务：以下是对卷烟产品的评论，按照分类标签内容语义进行评价，简要说明理由# 评论：review = \"很不错，个人感觉比芙蓉王和22的利群都好抽\"# 输出格式： \"分类标签\": \"A正面，B负面，C中性，D讽刺，E无产品评价语意\", \"理由\": \" \"<|im_end|>\\n<|im_start|>assistant\\n',\n",
       "  '<|im_start|>system\\nYou are a helpful assistant.<|im_end|>\\n<|im_start|>user\\n#任务：以下是对卷烟产品的评论，按照分类标签内容语义进行评价，简要说明理由# 评论：review = \"都是吸这个烟。口感还不错\"# 输出格式： \"分类标签\": \"A正面，B负面，C中性，D讽刺，E无产品评价语意\", \"理由\": \" \"<|im_end|>\\n<|im_start|>assistant\\n',\n",
       "  '<|im_start|>system\\nYou are a helpful assistant.<|im_end|>\\n<|im_start|>user\\n#任务：以下是对卷烟产品的评论，按照分类标签内容语义进行评价，简要说明理由# 评论：review = \"确实不错烟气足也挺顺有劲味道没话说就是不太好买\"# 输出格式： \"分类标签\": \"A正面，B负面，C中性，D讽刺，E无产品评价语意\", \"理由\": \" \"<|im_end|>\\n<|im_start|>assistant\\n',\n",
       "  '<|im_start|>system\\nYou are a helpful assistant.<|im_end|>\\n<|im_start|>user\\n#任务：以下是对卷烟产品的评论，按照分类标签内容语义进行评价，简要说明理由# 评论：review = \"我挺喜欢这烟的，烟气醇厚，烟叶香味纯正，包装典雅厚重，比21元玉溪看着舒服，现在是我的常备口粮。\"# 输出格式： \"分类标签\": \"A正面，B负面，C中性，D讽刺，E无产品评价语意\", \"理由\": \" \"<|im_end|>\\n<|im_start|>assistant\\n',\n",
       "  '<|im_start|>system\\nYou are a helpful assistant.<|im_end|>\\n<|im_start|>user\\n#任务：以下是对卷烟产品的评论，按照分类标签内容语义进行评价，简要说明理由# 评论：review = \"这款烟在100左右的档次个人感觉性价比不错，假如拿它和20，30一包的烟去比性价比，那也许没几个人会选它。所以个人感觉口味和包装是个人喜好，性价比应该和这个档次的烟比，应该在8分左右。\"# 输出格式： \"分类标签\": \"A正面，B负面，C中性，D讽刺，E无产品评价语意\", \"理由\": \" \"<|im_end|>\\n<|im_start|>assistant\\n',\n",
       "  '<|im_start|>system\\nYou are a helpful assistant.<|im_end|>\\n<|im_start|>user\\n#任务：以下是对卷烟产品的评论，按照分类标签内容语义进行评价，简要说明理由# 评论：review = \"香气不错，口感也很好。\"# 输出格式： \"分类标签\": \"A正面，B负面，C中性，D讽刺，E无产品评价语意\", \"理由\": \" \"<|im_end|>\\n<|im_start|>assistant\\n',\n",
       "  '<|im_start|>system\\nYou are a helpful assistant.<|im_end|>\\n<|im_start|>user\\n#任务：以下是对卷烟产品的评论，按照分类标签内容语义进行评价，简要说明理由# 评论：review = \"今天买了一包尝，绝对的好烟。醇厚回味无穷。吸食到最后，一股清香渗析出来。。。绝对享受。值了。。。\"# 输出格式： \"分类标签\": \"A正面，B负面，C中性，D讽刺，E无产品评价语意\", \"理由\": \" \"<|im_end|>\\n<|im_start|>assistant\\n',\n",
       "  '<|im_start|>system\\nYou are a helpful assistant.<|im_end|>\\n<|im_start|>user\\n#任务：以下是对卷烟产品的评论，按照分类标签内容语义进行评价，简要说明理由# 评论：review = \"10元中的极品\\\\u3000老烟枪必备\"# 输出格式： \"分类标签\": \"A正面，B负面，C中性，D讽刺，E无产品评价语意\", \"理由\": \" \"<|im_end|>\\n<|im_start|>assistant\\n'],\n",
       " 'chosen': ['\"分类标签\": \"A正面\",\"理由\": \"评论中提到该卷烟产品在口感上优于另一知名品牌（五星红杉树），并带有另一品牌（苏烟）的味道，这通常被视为对该产品的正面评价。\"<|im_end|>',\n",
       "  '\"分类标签\": \"A正面\",\"理由\": \"评论者提到收藏了该产品，并称赞了包装精致，这表明评论者对该产品持有正面评价，认为它有收藏价值并且在外观上有吸引力。\"<|im_end|>',\n",
       "  '\"分类标签\": \"A正面\",\"理由\": \"评论中使用了\\\\\\'很不错\\\\\\'这样的积极词汇，表达了对卷烟产品的正面评价，并与芙蓉王和22的利群进行了比较，认为这款产品更好抽，这显示了用户较高的满意度和偏好。\"<|im_end|>',\n",
       "  '\"分类标签\": \"A正面\",\"理由\": \"评论中提到‘口感还不错’，直接表达了用户对产品的正面评价。‘都是吸这个烟’也可能暗示了用户对这一品牌的忠诚度和习惯性选择，进一步强化了正面评价。\"<|im_end|>',\n",
       "  '\"分类标签\": \"A正面\",\"理由\": \"评论中提到‘确实不错’，‘烟气足’，‘挺顺有劲’，‘味道没话说’，这些都是对卷烟产品质量的正面评价，说明用户对产品的使用体验是满意的。唯一提到的负面因素是‘不太好买’，但这并不影响对产品质量本身的正面评价。\"<|im_end|>',\n",
       "  '\"分类标签\": \"A正面\",\"理由\": \"评论中提到了‘喜欢这烟’，‘烟气醇厚’，‘烟叶香味纯正’，‘包装典雅厚重’以及‘常备口粮’，这些都是正面的评价词汇，表明用户对产品有较高的满意度和正面情感。\"<|im_end|>',\n",
       "  '\"分类标签\": \"A正面\",\"理由\": \"评论者认为这款烟在其价格档次中性价比不错，给出了8分左右的高评价。虽然评论中提到了如果与更低价位的烟比较，其性价比可能不占优势，但整体上，评论者对产品的口味和包装表示满意，认为它符合个人喜好，因此整体语意偏向正面评价。\"<|im_end|>',\n",
       "  '\"分类标签\": \"A正面\",\"理由\": \"评论中提到的‘香气不错’和‘口感也很好’都是积极的评价，表明用户对卷烟产品的体验感到满意，因此这是一个正面评价。\"<|im_end|>',\n",
       "  '\"分类标签\": \"A正面\",\"理由\": \"评论中使用了‘好烟’、‘醇厚回味无穷’、‘清香’、‘绝对享受’等积极词汇，明显表达了对卷烟产品的喜爱和满意。\"<|im_end|>',\n",
       "  '\"分类标签\": \"A正面\",\"理由\": \"评论中使用了‘极品’和‘必备’这样的词汇，明显表达了对该卷烟产品的高度满意和推荐。‘老烟枪必备’更是暗示了对资深烟民而言，该产品是不可或缺的选择，因此整体评价是正面的。\"<|im_end|>'],\n",
       " 'rejected': ['根据这条评论的内容，可以将其归类为“A正面”。原因如下：\\n\\n1. **积极的比较**：\"比五星红杉树要好抽一点\" 表示该评论者认为这款卷烟在与“五星红杉树”进行比较时，它的品质或口味更好。这表明评论者对这款卷烟有正面看法。\\n\\n2. **提及另一款知名产品**：“有点苏烟的味道”提到了苏烟作为参照对象，这表明评论者将这款卷烟与另一个已知的品牌进行比较，并且认为它具有相似或更好的特性，进一步强调了正面评价。\\n\\n3. **使用了肯定的词语**：“好抽”是一个积极的描述，意味着评论者认为这种卷烟易于抽吸，味道令人满意。\\n\\n综上所述，这条评论整体上表达了对卷烟产品的正面看法，因此分类标签应为“A正面”，理由是评论中包含了对比、正面形容词以及对品质和口感的积极评价。<|im_end|>',\n",
       "  '分类标签: A正面\\n理由: 这条评论主要表达了对卷烟产品的积极看法。评论者提到\"有幸收藏了一包\"和\"包装精致\"，这些都是正面的描述，表示对产品有好感，并且对产品的包装设计给予了肯定。虽然评论提到了“苏州地区无售”，但这部分信息并不构成对该产品的负面评价，而是一种客观事实的陈述。因此，整体上，这条评论应归类为正面评价。<|im_end|>',\n",
       "  '根据提供的评论内容，可以将其归类为\"正面\"。\\n\\n理由如下：\\n1. 评论者表示对卷烟产品的满意度：\"很不错\"\\n2. 评论者将这款卷烟与两个其他品牌（芙蓉王和22的利群）进行了比较，并表示它比这两个品牌更好抽。\\n\\n基于上述分析，可以得出评论的整体情感倾向是积极的，因此分类标签应为 \"A正面\"。<|im_end|>',\n",
       "  '根据给出的评论\"都是吸这个烟。口感还不错\"，我们可以分析如下：\\n\\n- **分类标签**：A正面\\n- **理由**：评论中的“口感还不错”表明了对卷烟产品的正面评价，表示该评论者对产品的口感持积极态度。\\n\\n因此，这条评论属于正面评价，因为它表达了对产品的肯定和满意。<|im_end|>',\n",
       "  '\"分类标签\": \"A正面, C中性\",\\n\"理由\": \"评论中提到的\\'确实不错\\'、\\'烟气足也挺顺有劲\\'和\\'味道没话说\\'等描述表明了对卷烟产品的正面评价。同时，\\'就是不太好买\\'这一部分则是对购买难度的客观描述，并非对产品质量或体验的直接评价，因此可以归类为中性信息。整体来看，评论包含了对产品的正面看法以及购买方面的中性信息。\"<|im_end|>',\n",
       "  '根据给出的评论，可以将其分类为“正面”。\\n\\n理由如下：\\n\\n1. 评论者表示“我挺喜欢这烟的”，这表明他对该卷烟产品有积极的情感倾向。\\n2. “烟气醇厚，烟叶香味纯正”这部分描述了卷烟的味道和香气，使用了积极的形容词（醇厚、纯正），表示对卷烟品质的满意。\\n3. “包装典雅厚重”这一描述强调了卷烟的外观设计，使用了正面的形容词（典雅、厚重），表明评论者认为包装具有较高的审美价值。\\n4. “比21元玉溪看着舒服”通过将该卷烟与另一个品牌（玉溪）进行比较，并表达出更偏好当前卷烟的感觉，进一步强调了评论者的正面评价。\\n5. 最后，“现在是我的常备口粮”意味着评论者已经将该卷烟作为日常消费的选择，这通常表示了高度的满意度。\\n\\n综上所述，这条评论表达了评论者对卷烟产品的高度满意和偏好，因此应归类为“正面”。<|im_end|>',\n",
       "  '\"分类标签\": \"C中性\",\\n\"理由\": \"这段评论主要在讨论卷烟产品的性价比和与不同价格区间产品的比较，并给出了一个主观评分。评论者表达了个人对这款卷烟的看法，认为在100元左右的档次上，这款烟的性价比不错，适合与同档次的烟进行对比。虽然提到了个人口味和包装的喜好，但这些内容并未表达出明显的正面或负面情感倾向，因此可以归类为中性评价。\"<|im_end|>',\n",
       "  '根据给出的评论\"香气不错，口感也很好。\"，我们可以分析如下：\\n\\n评论表达了对卷烟产品的正面评价，提到了香气和口感两个方面都表示满意。因此，这条评论属于正面评价。\\n\\n所以，分类标签为：\"A正面\"\\n\\n理由：评论明确表达了对卷烟产品的积极看法，提到“香气不错”和“口感也很好”，这两点都是正面的评价点。<|im_end|>',\n",
       "  '分类标签: A正面\\n\\n理由: 评论中的描述都是积极的，提到了\"好烟\"、\"醇厚\"、\"回味无穷\"、\"享受\"以及\"值了\"等词语，这些都是对产品（卷烟）的正面评价。没有出现任何负面或讽刺性的言辞或语气。<|im_end|>',\n",
       "  '根据给出的评论 \"10元中的极品 老烟枪必备\"，我们可以对其进行语义分类：\\n\\n### 分类标签: A正面\\n\\n### 理由:\\n- **关键词分析**: 评论中提到“极品”和“必备”，这两个词都带有积极的含义，表示对卷烟产品的高度评价。\\n- **情感色彩**: 从整体来看，评论者使用了积极的情感色彩来描述该产品，表达了对产品的满意和推荐的态度。\\n\\n综上所述，这条评论属于正面评价，因为它强调了产品的优秀品质，并且建议“老烟枪”（可能指的是经常吸烟的人）使用这款产品。<|im_end|>']}"
      ]
     },
     "execution_count": 6,
     "metadata": {},
     "output_type": "execute_result"
    }
   ],
   "source": [
    "train_dataset[:10]"
   ]
  },
  {
   "cell_type": "code",
   "execution_count": 7,
   "id": "cae09b2a-5337-40ec-9e0f-ac959d4677ae",
   "metadata": {},
   "outputs": [
    {
     "data": {
      "application/vnd.jupyter.widget-view+json": {
       "model_id": "9dcebf3495cc46ecb2f34464fa5d996a",
       "version_major": 2,
       "version_minor": 0
      },
      "text/plain": [
       "Loading checkpoint shards:   0%|          | 0/4 [00:00<?, ?it/s]"
      ]
     },
     "metadata": {},
     "output_type": "display_data"
    }
   ],
   "source": [
    "model = AutoModelForCausalLM.from_pretrained(\n",
    "    'autodl-tmp/merge_model',\n",
    "    device_map='auto',\n",
    "    trust_remote_code=True,\n",
    "    # torch_dtype=torch.bfloat16,\n",
    "    quantization_config=BitsAndBytesConfig(\n",
    "        load_in_4bit=True,\n",
    "        bnb_4bit_compute_dtype=torch.bfloat16,\n",
    "        bnb_4bit_use_double_quant=True,\n",
    "        bnb_4bit_quant_type='nf4'\n",
    "    )\n",
    ")"
   ]
  },
  {
   "cell_type": "code",
   "execution_count": 8,
   "id": "2d6a4f48-7e60-4871-ad30-f86cb7d7d811",
   "metadata": {},
   "outputs": [
    {
     "data": {
      "text/plain": [
       "Qwen2ForCausalLM(\n",
       "  (model): Qwen2Model(\n",
       "    (embed_tokens): Embedding(152064, 3584)\n",
       "    (layers): ModuleList(\n",
       "      (0-27): 28 x Qwen2DecoderLayer(\n",
       "        (self_attn): Qwen2SdpaAttention(\n",
       "          (q_proj): Linear4bit(in_features=3584, out_features=3584, bias=True)\n",
       "          (k_proj): Linear4bit(in_features=3584, out_features=512, bias=True)\n",
       "          (v_proj): Linear4bit(in_features=3584, out_features=512, bias=True)\n",
       "          (o_proj): Linear4bit(in_features=3584, out_features=3584, bias=False)\n",
       "          (rotary_emb): Qwen2RotaryEmbedding()\n",
       "        )\n",
       "        (mlp): Qwen2MLP(\n",
       "          (gate_proj): Linear4bit(in_features=3584, out_features=18944, bias=False)\n",
       "          (up_proj): Linear4bit(in_features=3584, out_features=18944, bias=False)\n",
       "          (down_proj): Linear4bit(in_features=18944, out_features=3584, bias=False)\n",
       "          (act_fn): SiLU()\n",
       "        )\n",
       "        (input_layernorm): Qwen2RMSNorm()\n",
       "        (post_attention_layernorm): Qwen2RMSNorm()\n",
       "      )\n",
       "    )\n",
       "    (norm): Qwen2RMSNorm()\n",
       "  )\n",
       "  (lm_head): Linear(in_features=3584, out_features=152064, bias=False)\n",
       ")"
      ]
     },
     "execution_count": 8,
     "metadata": {},
     "output_type": "execute_result"
    }
   ],
   "source": [
    "model"
   ]
  },
  {
   "cell_type": "code",
   "execution_count": 9,
   "id": "284ce24f-9dcf-460a-bdf7-4a6f4a10e672",
   "metadata": {},
   "outputs": [],
   "source": [
    "peft_config = LoraConfig(\n",
    "    lora_alpha=16,\n",
    "    lora_dropout=0.1,\n",
    "    r=16,\n",
    "    bias=\"none\",\n",
    "    task_type=\"CAUSAL_LM\",\n",
    "    target_modules = [\"q_proj\", \"k_proj\", \"v_proj\", \"o_proj\",\n",
    "                      \"gate_proj\", \"up_proj\", \"down_proj\",],\n",
    "    inference_mode = False,\n",
    ")"
   ]
  },
  {
   "cell_type": "code",
   "execution_count": 10,
   "id": "d9fd30d3-d2c7-4137-a20f-3193c06d377c",
   "metadata": {},
   "outputs": [],
   "source": [
    "model = get_peft_model(model,peft_config)"
   ]
  },
  {
   "cell_type": "code",
   "execution_count": 11,
   "id": "e8e84ca3-746c-45aa-9f9d-3934d7622abf",
   "metadata": {
    "scrolled": true
   },
   "outputs": [
    {
     "name": "stderr",
     "output_type": "stream",
     "text": [
      "Special tokens have been added in the vocabulary, make sure the associated word embeddings are fine-tuned or trained.\n"
     ]
    },
    {
     "data": {
      "text/plain": [
       "Qwen2TokenizerFast(name_or_path='autodl-tmp/merge_model', vocab_size=151643, model_max_length=131072, is_fast=True, padding_side='right', truncation_side='right', special_tokens={'eos_token': '<|im_end|>', 'pad_token': '<|endoftext|>', 'additional_special_tokens': ['<|im_start|>', '<|im_end|>']}, clean_up_tokenization_spaces=False),  added_tokens_decoder={\n",
       "\t151643: AddedToken(\"<|endoftext|>\", rstrip=False, lstrip=False, single_word=False, normalized=False, special=True),\n",
       "\t151644: AddedToken(\"<|im_start|>\", rstrip=False, lstrip=False, single_word=False, normalized=False, special=True),\n",
       "\t151645: AddedToken(\"<|im_end|>\", rstrip=False, lstrip=False, single_word=False, normalized=False, special=True),\n",
       "}"
      ]
     },
     "execution_count": 11,
     "metadata": {},
     "output_type": "execute_result"
    }
   ],
   "source": [
    "tokenizer = AutoTokenizer.from_pretrained('autodl-tmp/merge_model', trust_remote_code=True)\n",
    "tokenizer"
   ]
  },
  {
   "cell_type": "code",
   "execution_count": 12,
   "id": "0d3ad0e6-4e72-4273-b0f9-8fa426ef899d",
   "metadata": {},
   "outputs": [],
   "source": [
    "# tokenizer.eos_token = tokenizer.pad_token\n",
    "if tokenizer.bos_token is None:   # qwen没有bos_token，要设置一下，不然dpo train时会报错。\n",
    "    tokenizer.add_special_tokens({\"bos_token\": tokenizer.eos_token})\n",
    "    tokenizer.bos_token_id = tokenizer.eos_token_id"
   ]
  },
  {
   "cell_type": "code",
   "execution_count": 13,
   "id": "30fef11e-9c9d-4e17-a7b8-b95ac85ad14d",
   "metadata": {},
   "outputs": [
    {
     "data": {
      "text/plain": [
       "Qwen2TokenizerFast(name_or_path='autodl-tmp/merge_model', vocab_size=151643, model_max_length=131072, is_fast=True, padding_side='right', truncation_side='right', special_tokens={'bos_token': '<|im_end|>', 'eos_token': '<|im_end|>', 'pad_token': '<|endoftext|>', 'additional_special_tokens': ['<|im_start|>', '<|im_end|>']}, clean_up_tokenization_spaces=False),  added_tokens_decoder={\n",
       "\t151643: AddedToken(\"<|endoftext|>\", rstrip=False, lstrip=False, single_word=False, normalized=False, special=True),\n",
       "\t151644: AddedToken(\"<|im_start|>\", rstrip=False, lstrip=False, single_word=False, normalized=False, special=True),\n",
       "\t151645: AddedToken(\"<|im_end|>\", rstrip=False, lstrip=False, single_word=False, normalized=False, special=True),\n",
       "}"
      ]
     },
     "execution_count": 13,
     "metadata": {},
     "output_type": "execute_result"
    }
   ],
   "source": [
    "tokenizer"
   ]
  },
  {
   "cell_type": "code",
   "execution_count": 14,
   "id": "1044907c-ee96-4cdd-b4e9-a659a4c6ae17",
   "metadata": {},
   "outputs": [],
   "source": [
    "training_args = DPOConfig(\n",
    "    output_dir=\"autodl-tmp/rlhf_0707\",\n",
    "    beta=0.1,\n",
    "    per_device_train_batch_size=1,\n",
    "    num_train_epochs=1,\n",
    "    gradient_accumulation_steps=8,\n",
    "    gradient_checkpointing=False,\n",
    "    # learning_rate=2e-4,\n",
    "    # optim=\"paged_adamw_8bit\",\n",
    "    logging_steps = 10,\n",
    "    warmup_ratio = 0.1,\n",
    "    report_to = 'none',\n",
    "    max_length=512,\n",
    "    max_prompt_length=64\n",
    "    # group_by_length = True,\n",
    "    # use_gradient_checkpointing = True,\n",
    "    # loss_type=training_args.loss_type,\n",
    ")"
   ]
  },
  {
   "cell_type": "code",
   "execution_count": 15,
   "id": "b9c9a9c9-7473-421a-b26f-ce42206537f2",
   "metadata": {},
   "outputs": [
    {
     "data": {
      "text/plain": [
       "tensor([[151644,   8948,    198,   2610,    525,    264,  10950,  17847,     13,\n",
       "         151645,    198, 151644,    872,    198,      2,  88802,   5122,  87752,\n",
       "         106273, 100199,  99752, 104703,  85641,   3837, 101892,  70538, 105151,\n",
       "          43815,  72881,  64559,  71817, 103964,   3837,  98237,  30534,  66394,\n",
       "         102401,      2,    220,  85641,   5122,  19417,    284,    330,  56006,\n",
       "         110937,  99425, 103268,  99613,  30534,  52801,  99950,  46396,     15,\n",
       "         100380,   3837, 104037,  99908,  99752, 107254,  57676,  70568,  68805,\n",
       "           5122,    330,  70538, 105151,    788,    330,     32, 106557,   3837,\n",
       "             33, 103276,   3837,     34,  15946,  33071,   3837,     35, 115469,\n",
       "           3837,     36,  42192,  82700, 103964,  72881,  36589,    497,    330,\n",
       "         102401,    788,    330,    330, 151645,    198, 151644,  77091,    198]])"
      ]
     },
     "execution_count": 15,
     "metadata": {},
     "output_type": "execute_result"
    }
   ],
   "source": [
    "tokenizer.encode(train_dataset[0]['prompt'],return_tensors='pt')"
   ]
  },
  {
   "cell_type": "code",
   "execution_count": 16,
   "id": "29190611-b448-4229-9514-1439e32bee97",
   "metadata": {},
   "outputs": [
    {
     "data": {
      "text/plain": [
       "'<|im_start|>system\\nYou are a helpful assistant.<|im_end|>\\n<|im_start|>user\\n#任务：以下是对卷烟产品的评论，按照分类标签内容语义进行评价，简要说明理由# 评论：review = \"比五星红杉树要好抽\\\\xa0一点，有点苏烟的味道\"# 输出格式： \"分类标签\": \"A正面，B负面，C中性，D讽刺，E无产品评价语意\", \"理由\": \" \"<|im_end|>\\n<|im_start|>assistant\\n'"
      ]
     },
     "execution_count": 16,
     "metadata": {},
     "output_type": "execute_result"
    }
   ],
   "source": [
    "tokenizer.decode(tokenizer.encode(train_dataset[0]['prompt'],return_tensors='pt')[0])"
   ]
  },
  {
   "cell_type": "code",
   "execution_count": 22,
   "id": "82eb45ef-0712-48ee-90d8-ebee1383c09d",
   "metadata": {},
   "outputs": [],
   "source": [
    "class MyCallback(TrainerCallback):\n",
    "    def on_step_end(self, args, state, control, **kwargs):\n",
    "        if state.global_step % 100 == 0:\n",
    "            print(state.global_step)\n",
    "\n",
    "            data = random.choice(train_dataset)\n",
    "            input_ids = tokenizer.encode(data['prompt'],\n",
    "                                         return_tensors='pt').to('cuda')\n",
    "            # print(input_ids[0])\n",
    "            out = model.generate(input_ids,\n",
    "                                pad_token_id=tokenizer.pad_token_id,\n",
    "                                eos_token_id=tokenizer.eos_token_id,\n",
    "                                max_new_tokens=64)\n",
    "            print(tokenizer.decode(out[0]))\n",
    "            print('='*20)\n",
    "            print(data['chosen'])\n",
    "            print(data['rejected'])\n",
    "            print('='*20)      "
   ]
  },
  {
   "cell_type": "code",
   "execution_count": 23,
   "id": "c1892576-dca4-400c-9d62-3736632fc010",
   "metadata": {},
   "outputs": [
    {
     "name": "stderr",
     "output_type": "stream",
     "text": [
      "Loading cached processed dataset at /root/autodl-tmp/dataset/rlhf_plus_fff/cache-4475eacdaedac430.arrow\n"
     ]
    }
   ],
   "source": [
    "dpo_trainer = DPOTrainer(\n",
    "    model=model,\n",
    "    args=training_args,\n",
    "    train_dataset=train_dataset,\n",
    "    tokenizer=tokenizer,\n",
    "    # max_length=512,\n",
    "    callbacks=[MyCallback]\n",
    ")"
   ]
  },
  {
   "cell_type": "code",
   "execution_count": 24,
   "id": "0032b64f-b88e-418d-bd67-f74e9d68679c",
   "metadata": {
    "scrolled": true
   },
   "outputs": [],
   "source": [
    "#print(dpo_trainer.tokenize_row(train_dataset[0]))"
   ]
  },
  {
   "cell_type": "code",
   "execution_count": 25,
   "id": "1994b2f8-6f54-45b2-b7ba-3cb8e2c35b65",
   "metadata": {},
   "outputs": [
    {
     "data": {
      "text/plain": [
       "'<|im_end|><|im_start|>system\\nYou are a helpful assistant.<|im_end|>\\n<|im_start|>user\\n#任务：以下是对卷烟产品的评论，按照分类标签内容语义进行评价，简要说明理由# 评论：review = \"比五星红杉树要好抽\\\\xa0一点，有点苏烟的味道\"# 输出格式： \"分类标签\": \"A正面，B负面，C中性，D讽刺，E无产品评价语意\", \"理由\": \" \"<|im_end|>\\n<|im_start|>assistant\\n\"分类标签\": \"A正面\",\"理由\": \"评论中提到该卷烟产品在口感上优于另一知名品牌（五星红杉树），并带有另一品牌（苏烟）的味道，这通常被视为对该产品的正面评价。\"<|im_end|>'"
      ]
     },
     "execution_count": 25,
     "metadata": {},
     "output_type": "execute_result"
    }
   ],
   "source": [
    "tokenizer.decode(dpo_trainer.tokenize_row(train_dataset[0])['chosen_input_ids'],skip_special_tokens=False)"
   ]
  },
  {
   "cell_type": "code",
   "execution_count": 26,
   "id": "937c4c84-1887-4cb8-bba9-05037fc2e7dc",
   "metadata": {},
   "outputs": [
    {
     "data": {
      "text/html": [
       "\n",
       "    <div>\n",
       "      \n",
       "      <progress value='972' max='972' style='width:300px; height:20px; vertical-align: middle;'></progress>\n",
       "      [972/972 1:35:56, Epoch 0/1]\n",
       "    </div>\n",
       "    <table border=\"1\" class=\"dataframe\">\n",
       "  <thead>\n",
       " <tr style=\"text-align: left;\">\n",
       "      <th>Step</th>\n",
       "      <th>Training Loss</th>\n",
       "    </tr>\n",
       "  </thead>\n",
       "  <tbody>\n",
       "    <tr>\n",
       "      <td>10</td>\n",
       "      <td>0.000400</td>\n",
       "    </tr>\n",
       "    <tr>\n",
       "      <td>20</td>\n",
       "      <td>0.000100</td>\n",
       "    </tr>\n",
       "    <tr>\n",
       "      <td>30</td>\n",
       "      <td>0.000100</td>\n",
       "    </tr>\n",
       "    <tr>\n",
       "      <td>40</td>\n",
       "      <td>0.000100</td>\n",
       "    </tr>\n",
       "    <tr>\n",
       "      <td>50</td>\n",
       "      <td>0.000000</td>\n",
       "    </tr>\n",
       "    <tr>\n",
       "      <td>60</td>\n",
       "      <td>0.000100</td>\n",
       "    </tr>\n",
       "    <tr>\n",
       "      <td>70</td>\n",
       "      <td>0.000000</td>\n",
       "    </tr>\n",
       "    <tr>\n",
       "      <td>80</td>\n",
       "      <td>0.000000</td>\n",
       "    </tr>\n",
       "    <tr>\n",
       "      <td>90</td>\n",
       "      <td>0.000000</td>\n",
       "    </tr>\n",
       "    <tr>\n",
       "      <td>100</td>\n",
       "      <td>0.000000</td>\n",
       "    </tr>\n",
       "    <tr>\n",
       "      <td>110</td>\n",
       "      <td>0.000100</td>\n",
       "    </tr>\n",
       "    <tr>\n",
       "      <td>120</td>\n",
       "      <td>0.000000</td>\n",
       "    </tr>\n",
       "    <tr>\n",
       "      <td>130</td>\n",
       "      <td>0.000000</td>\n",
       "    </tr>\n",
       "    <tr>\n",
       "      <td>140</td>\n",
       "      <td>0.000000</td>\n",
       "    </tr>\n",
       "    <tr>\n",
       "      <td>150</td>\n",
       "      <td>0.000000</td>\n",
       "    </tr>\n",
       "    <tr>\n",
       "      <td>160</td>\n",
       "      <td>0.000000</td>\n",
       "    </tr>\n",
       "    <tr>\n",
       "      <td>170</td>\n",
       "      <td>0.000000</td>\n",
       "    </tr>\n",
       "    <tr>\n",
       "      <td>180</td>\n",
       "      <td>0.000000</td>\n",
       "    </tr>\n",
       "    <tr>\n",
       "      <td>190</td>\n",
       "      <td>0.000000</td>\n",
       "    </tr>\n",
       "    <tr>\n",
       "      <td>200</td>\n",
       "      <td>0.000000</td>\n",
       "    </tr>\n",
       "    <tr>\n",
       "      <td>210</td>\n",
       "      <td>0.000000</td>\n",
       "    </tr>\n",
       "    <tr>\n",
       "      <td>220</td>\n",
       "      <td>0.000000</td>\n",
       "    </tr>\n",
       "    <tr>\n",
       "      <td>230</td>\n",
       "      <td>0.000000</td>\n",
       "    </tr>\n",
       "    <tr>\n",
       "      <td>240</td>\n",
       "      <td>0.000000</td>\n",
       "    </tr>\n",
       "    <tr>\n",
       "      <td>250</td>\n",
       "      <td>0.000000</td>\n",
       "    </tr>\n",
       "    <tr>\n",
       "      <td>260</td>\n",
       "      <td>0.000000</td>\n",
       "    </tr>\n",
       "    <tr>\n",
       "      <td>270</td>\n",
       "      <td>0.000000</td>\n",
       "    </tr>\n",
       "    <tr>\n",
       "      <td>280</td>\n",
       "      <td>0.000000</td>\n",
       "    </tr>\n",
       "    <tr>\n",
       "      <td>290</td>\n",
       "      <td>0.000000</td>\n",
       "    </tr>\n",
       "    <tr>\n",
       "      <td>300</td>\n",
       "      <td>0.000000</td>\n",
       "    </tr>\n",
       "    <tr>\n",
       "      <td>310</td>\n",
       "      <td>0.000000</td>\n",
       "    </tr>\n",
       "    <tr>\n",
       "      <td>320</td>\n",
       "      <td>0.000000</td>\n",
       "    </tr>\n",
       "    <tr>\n",
       "      <td>330</td>\n",
       "      <td>0.000000</td>\n",
       "    </tr>\n",
       "    <tr>\n",
       "      <td>340</td>\n",
       "      <td>0.000000</td>\n",
       "    </tr>\n",
       "    <tr>\n",
       "      <td>350</td>\n",
       "      <td>0.000000</td>\n",
       "    </tr>\n",
       "    <tr>\n",
       "      <td>360</td>\n",
       "      <td>0.000000</td>\n",
       "    </tr>\n",
       "    <tr>\n",
       "      <td>370</td>\n",
       "      <td>0.000000</td>\n",
       "    </tr>\n",
       "    <tr>\n",
       "      <td>380</td>\n",
       "      <td>0.000000</td>\n",
       "    </tr>\n",
       "    <tr>\n",
       "      <td>390</td>\n",
       "      <td>0.000000</td>\n",
       "    </tr>\n",
       "    <tr>\n",
       "      <td>400</td>\n",
       "      <td>0.000000</td>\n",
       "    </tr>\n",
       "    <tr>\n",
       "      <td>410</td>\n",
       "      <td>0.000000</td>\n",
       "    </tr>\n",
       "    <tr>\n",
       "      <td>420</td>\n",
       "      <td>0.000000</td>\n",
       "    </tr>\n",
       "    <tr>\n",
       "      <td>430</td>\n",
       "      <td>0.000000</td>\n",
       "    </tr>\n",
       "    <tr>\n",
       "      <td>440</td>\n",
       "      <td>0.000000</td>\n",
       "    </tr>\n",
       "    <tr>\n",
       "      <td>450</td>\n",
       "      <td>0.000000</td>\n",
       "    </tr>\n",
       "    <tr>\n",
       "      <td>460</td>\n",
       "      <td>0.000000</td>\n",
       "    </tr>\n",
       "    <tr>\n",
       "      <td>470</td>\n",
       "      <td>0.000000</td>\n",
       "    </tr>\n",
       "    <tr>\n",
       "      <td>480</td>\n",
       "      <td>0.000000</td>\n",
       "    </tr>\n",
       "    <tr>\n",
       "      <td>490</td>\n",
       "      <td>0.000000</td>\n",
       "    </tr>\n",
       "    <tr>\n",
       "      <td>500</td>\n",
       "      <td>0.000000</td>\n",
       "    </tr>\n",
       "    <tr>\n",
       "      <td>510</td>\n",
       "      <td>0.000000</td>\n",
       "    </tr>\n",
       "    <tr>\n",
       "      <td>520</td>\n",
       "      <td>0.000000</td>\n",
       "    </tr>\n",
       "    <tr>\n",
       "      <td>530</td>\n",
       "      <td>0.000000</td>\n",
       "    </tr>\n",
       "    <tr>\n",
       "      <td>540</td>\n",
       "      <td>0.000000</td>\n",
       "    </tr>\n",
       "    <tr>\n",
       "      <td>550</td>\n",
       "      <td>0.000000</td>\n",
       "    </tr>\n",
       "    <tr>\n",
       "      <td>560</td>\n",
       "      <td>0.000000</td>\n",
       "    </tr>\n",
       "    <tr>\n",
       "      <td>570</td>\n",
       "      <td>0.000000</td>\n",
       "    </tr>\n",
       "    <tr>\n",
       "      <td>580</td>\n",
       "      <td>0.000000</td>\n",
       "    </tr>\n",
       "    <tr>\n",
       "      <td>590</td>\n",
       "      <td>0.000000</td>\n",
       "    </tr>\n",
       "    <tr>\n",
       "      <td>600</td>\n",
       "      <td>0.000000</td>\n",
       "    </tr>\n",
       "    <tr>\n",
       "      <td>610</td>\n",
       "      <td>0.000000</td>\n",
       "    </tr>\n",
       "    <tr>\n",
       "      <td>620</td>\n",
       "      <td>0.000000</td>\n",
       "    </tr>\n",
       "    <tr>\n",
       "      <td>630</td>\n",
       "      <td>0.000000</td>\n",
       "    </tr>\n",
       "    <tr>\n",
       "      <td>640</td>\n",
       "      <td>0.000000</td>\n",
       "    </tr>\n",
       "    <tr>\n",
       "      <td>650</td>\n",
       "      <td>0.000000</td>\n",
       "    </tr>\n",
       "    <tr>\n",
       "      <td>660</td>\n",
       "      <td>0.000000</td>\n",
       "    </tr>\n",
       "    <tr>\n",
       "      <td>670</td>\n",
       "      <td>0.000000</td>\n",
       "    </tr>\n",
       "    <tr>\n",
       "      <td>680</td>\n",
       "      <td>0.000000</td>\n",
       "    </tr>\n",
       "    <tr>\n",
       "      <td>690</td>\n",
       "      <td>0.000000</td>\n",
       "    </tr>\n",
       "    <tr>\n",
       "      <td>700</td>\n",
       "      <td>0.000000</td>\n",
       "    </tr>\n",
       "    <tr>\n",
       "      <td>710</td>\n",
       "      <td>0.000000</td>\n",
       "    </tr>\n",
       "    <tr>\n",
       "      <td>720</td>\n",
       "      <td>0.000000</td>\n",
       "    </tr>\n",
       "    <tr>\n",
       "      <td>730</td>\n",
       "      <td>0.000000</td>\n",
       "    </tr>\n",
       "    <tr>\n",
       "      <td>740</td>\n",
       "      <td>0.000000</td>\n",
       "    </tr>\n",
       "    <tr>\n",
       "      <td>750</td>\n",
       "      <td>0.000000</td>\n",
       "    </tr>\n",
       "    <tr>\n",
       "      <td>760</td>\n",
       "      <td>0.000000</td>\n",
       "    </tr>\n",
       "    <tr>\n",
       "      <td>770</td>\n",
       "      <td>0.000000</td>\n",
       "    </tr>\n",
       "    <tr>\n",
       "      <td>780</td>\n",
       "      <td>0.000000</td>\n",
       "    </tr>\n",
       "    <tr>\n",
       "      <td>790</td>\n",
       "      <td>0.000000</td>\n",
       "    </tr>\n",
       "    <tr>\n",
       "      <td>800</td>\n",
       "      <td>0.000000</td>\n",
       "    </tr>\n",
       "    <tr>\n",
       "      <td>810</td>\n",
       "      <td>0.000000</td>\n",
       "    </tr>\n",
       "    <tr>\n",
       "      <td>820</td>\n",
       "      <td>0.000000</td>\n",
       "    </tr>\n",
       "    <tr>\n",
       "      <td>830</td>\n",
       "      <td>0.000000</td>\n",
       "    </tr>\n",
       "    <tr>\n",
       "      <td>840</td>\n",
       "      <td>0.000000</td>\n",
       "    </tr>\n",
       "    <tr>\n",
       "      <td>850</td>\n",
       "      <td>0.000000</td>\n",
       "    </tr>\n",
       "    <tr>\n",
       "      <td>860</td>\n",
       "      <td>0.000000</td>\n",
       "    </tr>\n",
       "    <tr>\n",
       "      <td>870</td>\n",
       "      <td>0.000000</td>\n",
       "    </tr>\n",
       "    <tr>\n",
       "      <td>880</td>\n",
       "      <td>0.000000</td>\n",
       "    </tr>\n",
       "    <tr>\n",
       "      <td>890</td>\n",
       "      <td>0.000000</td>\n",
       "    </tr>\n",
       "    <tr>\n",
       "      <td>900</td>\n",
       "      <td>0.000000</td>\n",
       "    </tr>\n",
       "    <tr>\n",
       "      <td>910</td>\n",
       "      <td>0.000000</td>\n",
       "    </tr>\n",
       "    <tr>\n",
       "      <td>920</td>\n",
       "      <td>0.000000</td>\n",
       "    </tr>\n",
       "    <tr>\n",
       "      <td>930</td>\n",
       "      <td>0.000000</td>\n",
       "    </tr>\n",
       "    <tr>\n",
       "      <td>940</td>\n",
       "      <td>0.000000</td>\n",
       "    </tr>\n",
       "    <tr>\n",
       "      <td>950</td>\n",
       "      <td>0.000000</td>\n",
       "    </tr>\n",
       "    <tr>\n",
       "      <td>960</td>\n",
       "      <td>0.000000</td>\n",
       "    </tr>\n",
       "    <tr>\n",
       "      <td>970</td>\n",
       "      <td>0.000000</td>\n",
       "    </tr>\n",
       "  </tbody>\n",
       "</table><p>"
      ],
      "text/plain": [
       "<IPython.core.display.HTML object>"
      ]
     },
     "metadata": {},
     "output_type": "display_data"
    },
    {
     "name": "stdout",
     "output_type": "stream",
     "text": [
      "100\n",
      "<|im_start|>system\n",
      "You are a helpful assistant.<|im_end|>\n",
      "<|im_start|>user\n",
      "#任务：以下是对卷烟产品的评论，按照分类标签内容语义进行评价，简要说明理由# 评论：review = \"出去的时候那盒\"# 输出格式： \"分类标签\": \"A正面，B负面，C中性，D讽刺，E无产品评价语意\", \"理由\": \" \"<|im_end|>\n",
      "<|im_start|>assistant\n",
      "\"分类标签\":\"C中性\",\"理由\": \"该评论'出去的时候那盒'缺乏明确的产品评价信息，它没有表达出明显的正面或负面情感，也没有讽刺意味，更没有直接提及产品的任何特点。这句话看起来更像是一个无关紧要的陈述，因此它被归类为中\n",
      "====================\n",
      "\"分类标签\": \"C中性\",\"理由\": \"评论中的内容\\'出去的时候那盒\\'并没有明确的情感色彩，也没有直接提及产品的好坏，因此无法判断为正面或负面评价。它更像是一个没有上下文的短语，不具备明显的评价意义。\"<|im_end|>\n",
      "\"分类标签\": \"B负面\",\n",
      "\"理由\": \"评论中的'出去的时候那盒'这句话可能暗示了评论者在外出时携带了一盒卷烟，但并没有提供关于产品质量、服务或其他与产品相关的具体信息。因此，这个评论更多的是描述了一个行为或情境，而不是对产品本身的评价，倾向于表达的是一个负面的情绪或不便，可能是由于携带卷烟而引起的某种不愉快经历。\"<|im_end|>\n",
      "====================\n",
      "200\n",
      "<|im_start|>system\n",
      "You are a helpful assistant.<|im_end|>\n",
      "<|im_start|>user\n",
      "#任务：以下是对卷烟产品的评论，按照分类标签内容语义进行评价，简要说明理由# 评论：review = \"很好，甜，香，爱不释手啊。\"# 输出格式： \"分类标签\": \"A正面，B负面，C中性，D讽刺，E无产品评价语意\", \"理由\": \" \"<|im_end|>\n",
      "<|im_start|>assistant\n",
      "\"<|im_end|>\n",
      "====================\n",
      "\"分类标签\": \"A正面\",\"理由\": \"评论中使用了‘很好’，‘甜’，‘香’，‘爱不释手’等积极的词汇，明显表达了对卷烟产品的喜爱和满意，属于正面评价。\"<|im_end|>\n",
      "根据给出的评论内容\"很好，甜，香，爱不释手啊。\"，我们可以分析其语义情感和意图：\n",
      "\n",
      "1. **关键词**：\"很好\"、\"甜\"、\"香\"、\"爱不释手\"\n",
      "2. **情感倾向**：这些词都表达了积极正面的情感，暗示了对卷烟产品的高度满意。\n",
      "3. **语境**：评论者使用了诸如“爱不释手”这样的词语，进一步强调了对产品的喜爱程度。\n",
      "\n",
      "综上所述，这条评论整体上表达的是对卷烟产品的高度赞扬和满意，没有明显的讽刺或负面情绪。因此，将其归类为**正面评价**。\n",
      "\n",
      "### 分类标签: A正面\n",
      "\n",
      "### 理由: 评论中使用了积极的词汇描述产品特性，并且表达出了对产品的喜爱程度，整体上是正面的评价。<|im_end|>\n",
      "====================\n",
      "300\n",
      "<|im_start|>system\n",
      "You are a helpful assistant.<|im_end|>\n",
      "<|im_start|>user\n",
      "#任务：以下是对卷烟产品的评论，按照分类标签内容语义进行评价，简要说明理由# 评论：review = \"抽过几支，过滤嘴是传统的沪烟设计，味道隐约有些梅子气息。\"# 输出格式： \"分类标签\": \"A正面，B负面，C中性，D讽刺，E无产品评价语意\", \"理由\": \" \"<|im_end|>\n",
      "<|im_start|>assistant\n",
      "\"分类标签\": \"C中\",\"理由\": \"评论中提到了过滤嘴的设计是传统的沪烟风格，并且味道中带有梅子气息，这些都是对产品特点的客观描述，没有明显的正面或负面情感色彩，整体上是一个中性的评价。用户并没有表达出强烈的喜好或者不满，\n",
      "====================\n",
      "\"分类标签\": \"A正面\",\"理由\": \"评论中提到过滤嘴是传统的沪烟设计，这通常是对品牌传统的认可。同时，味道有梅子气息，说明该产品具有独特的风味，用户对此体验进行了正面描述。\"<|im_end|>\n",
      "根据提供的评论内容，可以将其归类为\"C中性\"。\n",
      "\n",
      "理由如下：\n",
      "- 评论者提到了他们已经尝试了几支卷烟，这表明他们对产品有所了解和体验。\n",
      "- 评论中提到“过滤嘴是传统的沪烟设计”，这是一个客观事实描述，并没有表达出明显的正面或负面情感。\n",
      "- “味道隐约有些梅子气息”这一描述可能是中性的，因为这取决于个人的口味偏好。有些人可能喜欢这种梅子味，而有些人可能不那么喜欢。因此，这个描述既不是绝对的正面也不是负面评价。\n",
      "\n",
      "综上所述，该评论并没有明显地表达出正面或负面的情感倾向，因此可以归类为中性。<|im_end|>\n",
      "====================\n",
      "400\n",
      "<|im_start|>system\n",
      "You are a helpful assistant.<|im_end|>\n",
      "<|im_start|>user\n",
      "#任务：以下是对卷烟产品的评论，按照分类标签内容语义进行评价，简要说明理由# 评论：review = \"消费3000.可买一条990\"# 输出格式： \"分类标签\": \"A正面，B负面，C中性，D讽刺，E无产品评价语意\", \"理由\": \" \"<|im_end|>\n",
      "<|im_start|>assistant\n",
      "\"分类标签\": \"C中\",\"理由\": \"该评论没有明显的正面或负面情感色彩，只是简单地陈述了购买行为和价格，没有表达出对卷烟产品本身的评价。\"\"<|im_end|>\n",
      "====================\n",
      "\"分类标签\": \"C中性\",\"理由\": \"评论内容主要提到了消费金额和产品价格，没有明显的情感色彩或评价性词汇，仅仅陈述了事实，不表达喜好或不满意，因此属于中性。\"<|im_end|>\n",
      "根据给出的评论 \"消费3000.可买一条990\"，我们可以分析其语义内容：\n",
      "\n",
      "1. **分类标签**：在这个评论中，消费者似乎在讨论购买卷烟的花费与价值之间的关系。他提到了一个具体的金额（3000）和另一个具体的价格点（990），这表明他在比较购买量与成本。结合这两个数字，我们可以推断出他可能认为以3000元购买一定数量的卷烟，实际上能够获得更多的卷烟，即990元的等价物。\n",
      "\n",
      "2. **理由**：这个评论可能暗示了商品的性价比，或者是在表达某种交易或购买策略。由于没有更多的上下文信息，我们只能推测评论者可能是在说通过某种方式（可能是折扣、促销或其他交易方式）获得了更多的卷烟，从而使得每条卷烟的成本降低到990元。因此，从语义上理解，这可能是一种正面的评价，因为它涉及到节省成本或获得更多价值。\n",
      "\n",
      "综上所述，评论的分类标签可以是 \"A正面\"，理由是评论者可能在暗示通过某种方式可以获得更好的交易或更高的性价比，从而对产品或购买体验持积极态度。<|im_end|>\n",
      "====================\n",
      "500\n",
      "<|im_start|>system\n",
      "You are a helpful assistant.<|im_end|>\n",
      "<|im_start|>user\n",
      "#任务：以下是对卷烟产品的评论，按照分类标签内容语义进行评价，简要说明理由# 评论：review = \"这款香烟比较畅销\\xa0作为烟民价格优惠\\xa0和口感\\xa0首选\\xa0可最近涨价\\xa0快\\xa0去年还还是\\xa010元\\xa0现在都\\xa012\\xa0有关部门能不能\\xa0管一下\"# 输出格式： \"分类标签\": \"A正面，B负面，C中性，D讽刺，E无产品评价语意\", \"理由\": \" \"<|im_end|>\n",
      "<|im_start|>assistant\n",
      "\"分类标签\": \"B负面\",\"理由\": \"尽管评论中提到香烟是畅销的，价格优惠，口感首选，但最后提到了价格上涨，并表达了对价格管理的不满，认为相关部门应该干预，这体现了用户对价格变动的负面情绪。\"\"<|im_end|>\n",
      "====================\n",
      "\"分类标签\": \"B负面\",\"理由\": \"评论中提到了香烟价格最近涨得很快，并且表达了对价格上涨不满的情绪，希望有关部门能够介入管理。这表明了消费者对价格问题的负面看法，因此归类为负面评价。\"<|im_end|>\n",
      "根据评论内容，可以将其分类如下：\n",
      "\n",
      "```\n",
      "\"分类标签\": \"A正面\",\n",
      "\"理由\": \"评论者提到这款香烟畅销、价格优惠且口感好，这些都是正面的评价。同时，提到了价格最近上涨，但并未对产品质量或口感产生负面影响，因此整体上评论保持了积极的态度。\"\n",
      "``` \n",
      "\n",
      "尽管评论中提到了价格上涨这一可能引起负面情绪的信息，但由于没有表达出对产品本身的不满或负面感受，因此不归类为负面评价。评论中的“有关部门能不能管一下”更像是对市场调控的期望，并非针对产品的直接批评。<|im_end|>\n",
      "====================\n"
     ]
    },
    {
     "name": "stderr",
     "output_type": "stream",
     "text": [
      "/root/miniconda3/lib/python3.12/site-packages/peft/utils/other.py:611: UserWarning: Unable to fetch remote file due to the following error (MaxRetryError(\"HTTPSConnectionPool(host='huggingface.co', port=443): Max retries exceeded with url: /autodl-tmp/merge_model/resolve/main/config.json (Caused by ConnectTimeoutError(<urllib3.connection.HTTPSConnection object at 0x7f39503b17f0>, 'Connection to huggingface.co timed out. (connect timeout=10)'))\"), '(Request ID: 2e1acaf4-a3e9-4a86-bb6b-3eea857ffc2a)') - silently ignoring the lookup for the file config.json in autodl-tmp/merge_model.\n",
      "  warnings.warn(\n",
      "/root/miniconda3/lib/python3.12/site-packages/peft/utils/save_and_load.py:195: UserWarning: Could not find a config file in autodl-tmp/merge_model - will assume that the vocabulary was not modified.\n",
      "  warnings.warn(\n"
     ]
    },
    {
     "name": "stdout",
     "output_type": "stream",
     "text": [
      "600\n",
      "<|im_start|>system\n",
      "You are a helpful assistant.<|im_end|>\n",
      "<|im_start|>user\n",
      "#任务：以下是对卷烟产品的评论，按照分类标签内容语义进行评价，简要说明理由# 评论：review = \"大众畅销货在我们这儿\"# 输出格式： \"分类标签\": \"A正面，B负面，C中性，D讽刺，E无产品评价语意\", \"理由\": \" \"<|im_end|>\n",
      "<|im_start|>assistant\n",
      "\"分类标签\":\"A正面\",\"理由\": \"该评论没有明确的正面或负面情感色彩，只是简单地陈述了该产品在当地市场的销售情况，没有表达出对产品的具体喜好或不满。\"\"<|im_end|>\n",
      "====================\n",
      "\"分类标签\": \"A正面\",\"理由\": \"评论中提到‘大众畅销货’，通常这样的描述意味着产品在当地很受欢迎，具有积极的市场接受度，因此可以归类为正面评价。\"<|im_end|>\n",
      "\"分类标签\": \"C中性\",\n",
      "\"理由\": \"评论仅提到'大众畅销货'和'在我们这儿'，没有明确表达对产品质量或体验的正面或负面看法。因此，这可以被归类为中性评价。\"<|im_end|>\n",
      "====================\n",
      "700\n",
      "<|im_start|>system\n",
      "You are a helpful assistant.<|im_end|>\n",
      "<|im_start|>user\n",
      "#任务：以下是对卷烟产品的评论，按照分类标签内容语义进行评价，简要说明理由# 评论：review = \"赃朋都好这口!\"# 输出格式： \"分类标签\": \"A正面，B负面，C中性，D讽刺，E无产品评价语意\", \"理由\": \" \"<|im_end|>\n",
      "<|im_start|>assistant\n",
      "\"分类标签\":\"A正面\",\"理由\": \"评论中的‘赃朋都好这口’是一种方言表达，通常在中文里这种表述带有积极的情感色彩，意味着该产品被某一群体所喜爱，尽管语言有些模糊，但整体上可以理解为正面的评价。\"\"<|im_end|>\n",
      "====================\n",
      "\"分类标签\": \"A正面\",\"理由\": \"评论中的‘赃朋都好这口’表达了一种正面的社交认同感，意味着这个卷烟产品受到了一群朋友的喜爱和认可。‘好这口’通常指对某事物有喜好，在这里暗示了对该卷烟的正面评价。\"<|im_end|>\n",
      "\"分类标签\": \"D讽刺\",\n",
      "\"理由\": \"评论中的'赃朋都好这口!'使用了反语或讽刺的表达方式，通过贬低或嘲讽的方式来描述对卷烟产品的态度。\"<|im_end|>\n",
      "====================\n",
      "800\n",
      "<|im_start|>system\n",
      "You are a helpful assistant.<|im_end|>\n",
      "<|im_start|>user\n",
      "#任务：以下是对卷烟产品的评论，按照分类标签内容语义进行评价，简要说明理由# 评论：review = \"山东的代表烟\\u3000抽起来有点劲\\u3000就像山东人的特点一样\\u3000直爽豪气\\u3000这烟也是烧的猛劲头足\\u3000抽起来也痛快\"# 输出格式： \"分类标签\": \"A正面，B负面，C中性，D讽刺，E无产品评价语意\", \"理由\": \" \"<|im_end|>\n",
      "<|im_start|>assistant\n",
      "\"分类标签\":\"A正面\",\"理由\": \"评论中提到了‘抽起来有点劲’、‘直爽豪气’和‘抽起来也痛快’，这些都是正面的评价，表达了用户对产品强烈满意的感受，以及与山东人特点相联系的正面形象。虽然使用了‘\n",
      "====================\n",
      "\"分类标签\": \"A正面\",\"理由\": \"评论中提到‘山东的代表烟’、‘直爽豪气’、‘烧的猛劲头足’和‘抽起来也痛快’，这些都是对产品正面且积极的描述，表现出评论者对这款烟的喜爱和认可。\"<|im_end|>\n",
      "分类标签: A正面\n",
      "\n",
      "理由: 评论提到\"山东的代表烟\"表明对产品的认可和认同。描述\"抽起来有点劲\"、\"这烟也是烧的猛劲头足\"和\"抽起来也痛快\"等正面的吸烟体验，显示出评论者对这款卷烟的喜爱和满意。同时，将卷烟与山东人的性格特征相联系，进一步强调了其直爽豪气的特点，这也是对该产品的积极评价。因此，整体上，这条评论表达了正面的观点。<|im_end|>\n",
      "====================\n",
      "900\n",
      "<|im_start|>system\n",
      "You are a helpful assistant.<|im_end|>\n",
      "<|im_start|>user\n",
      "#任务：以下是对卷烟产品的评论，按照分类标签内容语义进行评价，简要说明理由# 评论：review = \"以前12，后来涨到12.5，再后来有卖13的。本地目前基本上是12.5.\"# 输出格式： \"分类标签\": \"A正面，B负面，C中性，D讽刺，E无产品评价语意\", \"理由\": \" \"<|im_end|>\n",
      "<|im_start|>assistant\n",
      "\"分类标签\":\"C中\",\"理由\": \"该评论主要是在描述产品价格的历史变化和当前的价格情况，没有明显的正面或负面情感色彩，也没有讽刺意味，仅仅是陈述了一个事实，因此属于中性。\"\"<|im_end|>\n",
      "====================\n",
      "\"分类标签\": \"C中性\",\"理由\": \"评论主要描述了卷烟价格随时间的变化，没有表达出明显的正面或负面情感，也没有讽刺意味，只是简单地陈述了事实。因此，这句话可以被认为是中性的。\"<|im_end|>\n",
      "分类标签: B负面\n",
      "\n",
      "理由: 评论提到了价格变动，最初的价格为12元，随后价格上涨到12.5元，之后又出现了13元的情况。这种价格波动表明价格不稳定或上涨，这通常会让人感到不满或不满足。此外，提到\"本地目前基本上是12.5\"，暗示了价格的不确定性，这也可能引起消费者的不满情绪。因此，这个评论可以被归类为负面评价。<|im_end|>\n",
      "====================\n"
     ]
    },
    {
     "data": {
      "text/plain": [
       "TrainOutput(global_step=972, training_loss=1.3155831788742769e-05, metrics={'train_runtime': 5762.1347, 'train_samples_per_second': 1.351, 'train_steps_per_second': 0.169, 'total_flos': 0.0, 'train_loss': 1.3155831788742769e-05, 'epoch': 1.0})"
      ]
     },
     "execution_count": 26,
     "metadata": {},
     "output_type": "execute_result"
    }
   ],
   "source": [
    "dpo_trainer.train()"
   ]
  },
  {
   "cell_type": "code",
   "execution_count": 27,
   "id": "2095eddf-21fb-477a-8baf-d41d46064c77",
   "metadata": {},
   "outputs": [
    {
     "name": "stderr",
     "output_type": "stream",
     "text": [
      "/root/miniconda3/lib/python3.12/site-packages/peft/utils/other.py:611: UserWarning: Unable to fetch remote file due to the following error (MaxRetryError(\"HTTPSConnectionPool(host='huggingface.co', port=443): Max retries exceeded with url: /autodl-tmp/merge_model/resolve/main/config.json (Caused by NewConnectionError('<urllib3.connection.HTTPSConnection object at 0x7f39506761b0>: Failed to establish a new connection: [Errno 111] Connection refused'))\"), '(Request ID: a8a0d667-5111-4ed2-9d53-7856052dc6e0)') - silently ignoring the lookup for the file config.json in autodl-tmp/merge_model.\n",
      "  warnings.warn(\n",
      "/root/miniconda3/lib/python3.12/site-packages/peft/utils/save_and_load.py:195: UserWarning: Could not find a config file in autodl-tmp/merge_model - will assume that the vocabulary was not modified.\n",
      "  warnings.warn(\n"
     ]
    }
   ],
   "source": [
    "dpo_trainer.save_model('autodl-tmp/dpo_qwen_plus_0707')"
   ]
  },
  {
   "cell_type": "code",
   "execution_count": 28,
   "id": "39c5341a-641a-440b-a408-8ad93c5658cc",
   "metadata": {},
   "outputs": [
    {
     "data": {
      "text/plain": [
       "('autodl-tmp/dpo_qwen_plus_0707/tokenizer_config.json',\n",
       " 'autodl-tmp/dpo_qwen_plus_0707/special_tokens_map.json',\n",
       " 'autodl-tmp/dpo_qwen_plus_0707/vocab.json',\n",
       " 'autodl-tmp/dpo_qwen_plus_0707/merges.txt',\n",
       " 'autodl-tmp/dpo_qwen_plus_0707/added_tokens.json',\n",
       " 'autodl-tmp/dpo_qwen_plus_0707/tokenizer.json')"
      ]
     },
     "execution_count": 28,
     "metadata": {},
     "output_type": "execute_result"
    }
   ],
   "source": [
    "tokenizer.save_pretrained('autodl-tmp/dpo_qwen_plus_0707')"
   ]
  },
  {
   "cell_type": "code",
   "execution_count": 28,
   "id": "1c0e4e90-970e-4cee-afcf-a3df8a954189",
   "metadata": {},
   "outputs": [
    {
     "data": {
      "text/plain": [
       "'你是一个语义分类器.#任务：以下是对卷烟产品的评论，按照分类标签内容语义进行评价，# 评论：review = \"比五星红杉树要好抽\\\\xa0一点，有点苏烟的味道\"# 输出格式： \"分类标签\": \"A正面，B负面，C中性，D讽刺，E无产品评价语意\"?'"
      ]
     },
     "execution_count": 28,
     "metadata": {},
     "output_type": "execute_result"
    }
   ],
   "source": [
    "train_dataset['prompt'][0]"
   ]
  },
  {
   "cell_type": "code",
   "execution_count": 22,
   "id": "8529fa4b-4a47-4393-a292-6d0e9fdb5d87",
   "metadata": {},
   "outputs": [],
   "source": [
    "inputs_ids = tokenizer(train_dataset['prompt'][3],return_tensors='pt').to('cuda')\n"
   ]
  },
  {
   "cell_type": "code",
   "execution_count": 23,
   "id": "14d2f9f1-b288-4c0a-bb5d-792087cd1447",
   "metadata": {},
   "outputs": [
    {
     "data": {
      "text/plain": [
       "'<|im_start|>system\\nYou are a helpful assistant.<|im_end|>\\n<|im_start|>user\\n#任务：以下是对卷烟产品的评论，按照分类标签内容语义进行评价，简要说明理由# 评论：review = \"都是吸这个烟。口感还不错\"# 输出格式： \"分类标签\": \"A正面，B负面，C中性，D讽刺，E无产品评价语意\", \"理由\": \" \"<|im_end|>\\n<|im_start|>assistant\\n'"
      ]
     },
     "execution_count": 23,
     "metadata": {},
     "output_type": "execute_result"
    }
   ],
   "source": [
    "tokenizer.decode(inputs_ids['input_ids'][0], skip_special_tokens=False)"
   ]
  },
  {
   "cell_type": "code",
   "execution_count": 24,
   "id": "4cc240cd-42c1-436e-a95f-0577820826ab",
   "metadata": {},
   "outputs": [],
   "source": [
    "generated_ids = model.generate(\n",
    "        **inputs_ids,\n",
    "        # max_new_tokens=512,\n",
    "        max_new_tokens=128,\n",
    "        temperature=0.3,\n",
    "        do_sample=True,\n",
    "        pad_token_id=tokenizer.eos_token_id,\n",
    "    )"
   ]
  },
  {
   "cell_type": "code",
   "execution_count": 25,
   "id": "d7f89570-786a-4e0b-b6cf-7c250e1d4229",
   "metadata": {},
   "outputs": [
    {
     "data": {
      "text/plain": [
       "['<|im_start|>system\\nYou are a helpful assistant.<|im_end|>\\n<|im_start|>user\\n#任务：以下是对卷烟产品的评论，按照分类标签内容语义进行评价，简要说明理由# 评论：review = \"都是吸这个烟。口感还不错\"# 输出格式： \"分类标签\": \"A正面，B负面，C中性，D讽刺，E无产品评价语意\", \"理由\": \" \"<|im_end|>\\n<|im_start|>assistant\\n\"分类标签\":\"A正面\",\"理由\": \"评论中提到‘口感还不错’，表达了对卷烟产品正面积极的评价，没有负面或讽刺的语气，属于正面评价。\"\"<|im_end|>\\n<|endoftext|>']"
      ]
     },
     "execution_count": 25,
     "metadata": {},
     "output_type": "execute_result"
    }
   ],
   "source": [
    "tokenizer.batch_decode(generated_ids, skip_special_tokens=False)"
   ]
  },
  {
   "cell_type": "code",
   "execution_count": 27,
   "id": "bceba0e2-3545-476a-9dde-3a7c7796199e",
   "metadata": {},
   "outputs": [
    {
     "data": {
      "text/plain": [
       "Dataset({\n",
       "    features: ['instruction', 'input', 'response_total', 'response'],\n",
       "    num_rows: 36869\n",
       "})"
      ]
     },
     "execution_count": 27,
     "metadata": {},
     "output_type": "execute_result"
    }
   ],
   "source": [
    "val_dataset = Dataset.load_from_disk('autodl-tmp/dataset/datasets_val')\n",
    "val_dataset"
   ]
  },
  {
   "cell_type": "code",
   "execution_count": 32,
   "id": "dba3c533-0b3f-403a-888c-ba06d0822afe",
   "metadata": {},
   "outputs": [],
   "source": [
    "def process_func_val(example):\n",
    "    MAX_LENGTH = 386\n",
    "    input_ids, attention_mask, labels = [], [], []\n",
    "    \n",
    "    instruction = (example['input']).replace(\"\\'\\'\\'\",\"\").replace('简要说明理由','不需要说明理由').replace(', \"理由\": \" \"','?')\n",
    "    # instruction = instruction.replace(\"A正面，B负面，C中性，D讽刺，E无产品评价语意\",select)\n",
    "    \n",
    "    return {'prompt': instruction,  'answer': example['response']}"
   ]
  },
  {
   "cell_type": "code",
   "execution_count": 33,
   "id": "f51e2b9f-caaf-4900-845f-860f0b9846c3",
   "metadata": {},
   "outputs": [
    {
     "data": {
      "application/vnd.jupyter.widget-view+json": {
       "model_id": "617a1346f80a45bd8eff68072c6540c1",
       "version_major": 2,
       "version_minor": 0
      },
      "text/plain": [
       "Map:   0%|          | 0/36869 [00:00<?, ? examples/s]"
      ]
     },
     "metadata": {},
     "output_type": "display_data"
    },
    {
     "data": {
      "text/plain": [
       "Dataset({\n",
       "    features: ['prompt', 'answer'],\n",
       "    num_rows: 36869\n",
       "})"
      ]
     },
     "execution_count": 33,
     "metadata": {},
     "output_type": "execute_result"
    }
   ],
   "source": [
    "tokenized_val = val_dataset.map(process_func_val, remove_columns=val_dataset.column_names)\n",
    "tokenized_val"
   ]
  },
  {
   "cell_type": "code",
   "execution_count": 34,
   "id": "7f16146d-dc69-4c63-bbd6-64a301cccd7a",
   "metadata": {},
   "outputs": [
    {
     "data": {
      "text/plain": [
       "{'prompt': '#任务：以下是对卷烟产品的评论，按照分类标签内容语义进行评价，不需要说明理由# 评论：review = \"太难抽，又苦又涩\"# 输出格式： \"分类标签\": \"A正面，B负面，C中性，D讽刺，E无产品评价语意\"?',\n",
       " 'answer': 'B负面'}"
      ]
     },
     "execution_count": 34,
     "metadata": {},
     "output_type": "execute_result"
    }
   ],
   "source": [
    "tokenized_val[0]"
   ]
  },
  {
   "cell_type": "code",
   "execution_count": 35,
   "id": "1e7a4eaa-a35c-4a24-bb48-f6ce94eb49a1",
   "metadata": {},
   "outputs": [],
   "source": [
    "batchs = []\n",
    "for i in range(len(tokenized_val)):\n",
    "    s = tokenized_val[i]['prompt']\n",
    "    # print(s)\n",
    "    messages = [\n",
    "        {\"role\": \"system\", \"content\": \"You are a helpful assistant.\"},\n",
    "        {\"role\": \"user\", \"content\": s}\n",
    "    ]\n",
    "    text = tokenizer.apply_chat_template(\n",
    "        messages,\n",
    "        tokenize=False,\n",
    "        add_generation_prompt=True,\n",
    "    \n",
    "    )\n",
    "    batchs.append(text)"
   ]
  },
  {
   "cell_type": "code",
   "execution_count": 36,
   "id": "d4eb2514-bd51-4151-bfeb-4d2ded275376",
   "metadata": {},
   "outputs": [],
   "source": [
    "from tqdm import tqdm"
   ]
  },
  {
   "cell_type": "code",
   "execution_count": 40,
   "id": "4b3492ae-3cca-4422-8e33-320d32361983",
   "metadata": {},
   "outputs": [],
   "source": [
    "tokenizer.padding_side='left'"
   ]
  },
  {
   "cell_type": "code",
   "execution_count": 41,
   "id": "8504a667-24f3-4f2f-af06-4cceaa65f9b0",
   "metadata": {},
   "outputs": [
    {
     "name": "stderr",
     "output_type": "stream",
     "text": [
      "100%|██████████| 4609/4609 [1:57:13<00:00,  1.53s/it]  \n"
     ]
    }
   ],
   "source": [
    "responses = []\n",
    "for i in tqdm(range(0,len(tokenized_val),8)):\n",
    "    # use batch\n",
    "    start = i\n",
    "    end = i + 8\n",
    "    if end >= len(batchs):\n",
    "        end = len(batchs)\n",
    "    s = batchs[start:end]\n",
    "    \n",
    "    model_inputs = tokenizer(s, return_tensors=\"pt\",padding=True).to('cuda')\n",
    "    generated_ids = model.generate(\n",
    "        model_inputs.input_ids,\n",
    "        # max_new_tokens=512,\n",
    "        max_new_tokens=32,\n",
    "        temperature=0.5,\n",
    "        pad_token_id=tokenizer.eos_token_id,\n",
    "        do_sample = True\n",
    "        \n",
    "    )\n",
    "    generated_ids = [\n",
    "        output_ids[len(input_ids):] for input_ids, output_ids in zip(model_inputs.input_ids, generated_ids)\n",
    "    ]\n",
    "    response = tokenizer.batch_decode(generated_ids, skip_special_tokens=True)\n",
    "    # print(response)\n",
    "    responses.extend(response)"
   ]
  },
  {
   "cell_type": "code",
   "execution_count": 42,
   "id": "7c33cfac-951e-4f56-ad76-3b297d2ca528",
   "metadata": {},
   "outputs": [],
   "source": [
    "dct = {'rlhf':responses}"
   ]
  },
  {
   "cell_type": "code",
   "execution_count": null,
   "id": "62904336-0081-47f7-85c6-a97a48599d05",
   "metadata": {},
   "outputs": [],
   "source": [
    "import pandas as pd"
   ]
  },
  {
   "cell_type": "code",
   "execution_count": null,
   "id": "eca1697f-1d4f-4c10-a3c0-9e02406a30d4",
   "metadata": {},
   "outputs": [],
   "source": [
    "pd.DataFrame(dct).to_csv('fine_turning_dpo_last_version.csv',encoding='utf-8-sig')"
   ]
  }
 ],
 "metadata": {
  "kernelspec": {
   "display_name": "Python 3.8.8 ('base')",
   "language": "python",
   "name": "python3"
  },
  "language_info": {
   "codemirror_mode": {
    "name": "ipython",
    "version": 3
   },
   "file_extension": ".py",
   "mimetype": "text/x-python",
   "name": "python",
   "nbconvert_exporter": "python",
   "pygments_lexer": "ipython3",
   "version": "3.8.8"
  },
  "vscode": {
   "interpreter": {
    "hash": "57bc2b6ce032b5f0e93daa91901b7ea38a856826ef43aa9e95b6d3999f5310df"
   }
  }
 },
 "nbformat": 4,
 "nbformat_minor": 5
}
