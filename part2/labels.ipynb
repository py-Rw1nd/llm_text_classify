{
 "cells": [
  {
   "cell_type": "code",
   "execution_count": 11,
   "metadata": {},
   "outputs": [
    {
     "name": "stdout",
     "output_type": "stream",
     "text": [
      "{'custom_id': 'request-1', 'method': 'POST', 'url': '/v4/chat/completions', 'body': {'model': 'glm-4', 'messages': [{'role': 'system', 'content': '你是一个意图分类器.'}, {'role': 'user', 'content': '#任务：对以下用户评论进行情感分类和特定问题标签标注，只输出结果，# 评论：review = \"订单处理速度太慢，等了很久才发货。\"# 输出格式：\\'\\'\\'{\"分类标签\": \" \", \"特定问题标注\": \" \" } \\'\\'\\''}]}}\n",
      "{'custom_id': 'request-2', 'method': 'POST', 'url': '/v4/chat/completions', 'body': {'model': 'glm-4', 'messages': [{'role': 'system', 'content': '你是一个意图分类器.'}, {'role': 'user', 'content': '#任务：对以下用户评论进行情感分类和特定问题标签标注，只输出结果，# 评论：review = \",商品有点小瑕疵，不过客服处理得很快，总体满意。\",# 输出格式：\\'\\'\\'{\",分类标签\": \" \", \"特定问题标注\": \" \" } \\'\\'\\''}]}}\n",
      "{'custom_id': 'request-3', 'method': 'POST', 'url': '/v4/chat/completions', 'body': {'model': 'glm-4', 'messages': [{'role': 'system', 'content': '你是一个意图分类器.'}, {'role': 'user', 'content': '#任务：对以下用户评论进行情感分类和特定问题标签标注，只输出结果，# 评论：review = \"这款产品性价比很高，非常满意。\"# 输出格式：\\'\\'\\'{\"分类标签\": \" \", \"特定问题标注\": \" \" } \\'\\'\\''}]}}\n",
      "{'custom_id': 'request-4', 'method': 'POST', 'url': '/v4/chat/completions', 'body': {'model': 'glm-4', 'messages': [{'role': 'system', 'content': '你是一个意图分类器.'}, {'role': 'user', 'content': '#任务：对以下用户评论进行情感分类和特定问题标签标注，只输出结果，# 评论：review = \"说明书写得不清楚，看了半天也不知道怎么用。\"# 输出格式：\\'\\'\\'{\"分类标签\": \" \", \"特定问题标注\": \" \" } \\'\\'\\''}]}}\n",
      "{'custom_id': 'request-5', 'method': 'POST', 'url': '/v4/chat/completions', 'body': {'model': 'glm-4', 'messages': [{'role': 'system', 'content': '你是一个意图分类器.'}, {'role': 'user', 'content': '#任务：对以下用户评论进行情感分类和特定问题标签标注，只输出结果，# 评论：review = \"总体还不错，但价格偏高，不太划算。\"# 输出格式：\\'\\'\\'{\"分类标签\": \" \", \"特定问题标注\": \" \" } \\'\\'\\''}]}}\n",
      "{'custom_id': 'request-6', 'method': 'POST', 'url': '/v4/chat/completions', 'body': {'model': 'glm-4', 'messages': [{'role': 'system', 'content': '你是一个意图分类器.'}, {'role': 'user', 'content': '#任务：对以下用户评论进行情感分类和特定问题标签标注，只输出结果，# 评论：review = \"物流速度很慢，等了两个星期才收到货 \"# 输出格式：\\'\\'\\'{\"分类标签\": \" \", \"特定问题标注\": \" \" } \\'\\'\\''}]}}\n",
      "{'custom_id': 'request-7', 'method': 'POST', 'url': '/v4/chat/completions', 'body': {'model': 'glm-4', 'messages': [{'role': 'system', 'content': '你是一个意图分类器.'}, {'role': 'user', 'content': '#任务：对以下用户评论进行情感分类和特定问题标签标注，只输出结果，# 评论：review = \"收到的产品跟描述不符，有些失望。\"# 输出格式：\\'\\'\\'{\"分类标签\": \" \", \"特定问题标注\": \" \" } \\'\\'\\''}]}}\n",
      "{'custom_id': 'request-8', 'method': 'POST', 'url': '/v4/chat/completions', 'body': {'model': 'glm-4', 'messages': [{'role': 'system', 'content': '你是一个意图分类器.'}, {'role': 'user', 'content': '#任务：对以下用户评论进行情感分类和特定问题标签标注，只输出结果，# 评论：review = \"客服很耐心，解决问题很快，感谢！\"# 输出格式：\\'\\'\\'{\"分类标签\": \" \", \"特定问题标注\": \" \" } \\'\\'\\''}]}}\n",
      "{'custom_id': 'request-9', 'method': 'POST', 'url': '/v4/chat/completions', 'body': {'model': 'glm-4', 'messages': [{'role': 'system', 'content': '你是一个意图分类器.'}, {'role': 'user', 'content': '#任务：对以下用户评论进行情感分类和特定问题标签标注，只输出结果，# 评论：review = \"包装太简单，商品在运输过程中被压坏了。\"# 输出格式：\\'\\'\\'{\"分类标签\": \" \", \"特定问题标注\": \" \" } \\'\\'\\''}]}}\n",
      "{'custom_id': 'request-10', 'method': 'POST', 'url': '/v4/chat/completions', 'body': {'model': 'glm-4', 'messages': [{'role': 'system', 'content': '你是一个意图分类器.'}, {'role': 'user', 'content': '#任务：对以下用户评论进行情感分类和特定问题标签标注，只输出结果，# 评论：review = \"产品质量不错，但是颜色和图片上的不一样\"# 输出格式：\\'\\'\\'{\"分类标签\": \" \", \"特定问题标注\": \" \" } \\'\\'\\''}]}}\n"
     ]
    }
   ],
   "source": [
    "import json\n",
    " \n",
    "def read_jsonl(file_path):\n",
    "    with open(file_path, 'r', encoding='utf-8') as file:\n",
    "        for line in file:\n",
    "            yield json.loads(line)\n",
    " \n",
    "# 使用例子\n",
    "data_path = 'demo.jsonl'\n",
    "for item in read_jsonl(data_path):\n",
    "    print(item)"
   ]
  },
  {
   "cell_type": "code",
   "execution_count": 12,
   "metadata": {},
   "outputs": [],
   "source": [
    "with open('./products_comments_total.txt', 'r', encoding='utf-8') as f:\n",
    "    data = f.readlines()\n",
    "    "
   ]
  },
  {
   "cell_type": "code",
   "execution_count": 16,
   "metadata": {},
   "outputs": [
    {
     "name": "stdout",
     "output_type": "stream",
     "text": [
      "太难抽，又苦又涩\n"
     ]
    }
   ],
   "source": [
    "for i in data:\n",
    "    print(i.replace('\\n',''))\n",
    "    break"
   ]
  },
  {
   "cell_type": "code",
   "execution_count": 47,
   "metadata": {},
   "outputs": [],
   "source": [
    "# method = 'POST'\n",
    "# url = '/v4/chat/completions'\n",
    "# model = 'glm-4'\n",
    "jsonl = []\n",
    "for idx, i in enumerate(data[49999+49999:]):\n",
    "    custom_id = f'request-{idx+1+49999+49999}'\n",
    "    content = i.replace('\\n','')\n",
    "    user_content = f'#任务：以下是对卷烟产品的评论，按照分类标签内容语义进行评价，简要说明理由# 评论：review = \"{content}\"# 输出格式：\\'\\'\\' \"分类标签\": \"A正面，B负面，C中性，D讽刺，E无产品评价语意\", \"理由\": \" \"'\n",
    "    \n",
    "    template = {'custom_id': custom_id, 'method': 'POST', 'url': '/v4/chat/completions', 'body': {'model': 'glm-4', 'messages': [{'role': 'system', 'content': '你是一个语义分类器.'}, {'role': 'user', 'content': user_content}]}}\n",
    "    jsonl.append(template)\n",
    "    if idx+1 == 49999:\n",
    "        break"
   ]
  },
  {
   "cell_type": "code",
   "execution_count": 7,
   "metadata": {},
   "outputs": [
    {
     "name": "stdout",
     "output_type": "stream",
     "text": [
      "Looking in indexes: https://pypi.tuna.tsinghua.edu.cn/simple\n",
      "Collecting zhipuai\n",
      "  Downloading https://pypi.tuna.tsinghua.edu.cn/packages/91/94/4a6b35daf2cca0788e0e61aa2e03bf4dbdb06abedd0cb50c5224e4d02d25/zhipuai-2.1.0.20240521-py3-none-any.whl (68 kB)\n",
      "Requirement already satisfied: httpx>=0.23.0 in c:\\users\\administrator\\anaconda3\\lib\\site-packages (from zhipuai) (0.26.0)\n",
      "Collecting pyjwt<2.9.0,>=2.8.0\n",
      "  Downloading https://pypi.tuna.tsinghua.edu.cn/packages/2b/4f/e04a8067c7c96c364cef7ef73906504e2f40d690811c021e1a1901473a19/PyJWT-2.8.0-py3-none-any.whl (22 kB)\n",
      "Requirement already satisfied: cachetools>=4.2.2 in c:\\users\\administrator\\anaconda3\\lib\\site-packages (from zhipuai) (4.2.2)\n",
      "Requirement already satisfied: pydantic<3.0,>=1.9.0 in c:\\users\\administrator\\anaconda3\\lib\\site-packages (from zhipuai) (2.6.0)\n",
      "Requirement already satisfied: httpcore==1.* in c:\\users\\administrator\\anaconda3\\lib\\site-packages (from httpx>=0.23.0->zhipuai) (1.0.2)\n",
      "Requirement already satisfied: certifi in c:\\users\\administrator\\anaconda3\\lib\\site-packages (from httpx>=0.23.0->zhipuai) (2023.7.22)\n",
      "Requirement already satisfied: idna in c:\\users\\administrator\\anaconda3\\lib\\site-packages (from httpx>=0.23.0->zhipuai) (2.10)\n",
      "Requirement already satisfied: sniffio in c:\\users\\administrator\\anaconda3\\lib\\site-packages (from httpx>=0.23.0->zhipuai) (1.2.0)\n",
      "Requirement already satisfied: anyio in c:\\users\\administrator\\anaconda3\\lib\\site-packages (from httpx>=0.23.0->zhipuai) (4.2.0)\n",
      "Requirement already satisfied: h11<0.15,>=0.13 in c:\\users\\administrator\\anaconda3\\lib\\site-packages (from httpcore==1.*->httpx>=0.23.0->zhipuai) (0.14.0)\n",
      "Requirement already satisfied: annotated-types>=0.4.0 in c:\\users\\administrator\\anaconda3\\lib\\site-packages (from pydantic<3.0,>=1.9.0->zhipuai) (0.6.0)\n",
      "Requirement already satisfied: typing-extensions>=4.6.1 in c:\\users\\administrator\\anaconda3\\lib\\site-packages (from pydantic<3.0,>=1.9.0->zhipuai) (4.9.0)\n",
      "Requirement already satisfied: pydantic-core==2.16.1 in c:\\users\\administrator\\anaconda3\\lib\\site-packages (from pydantic<3.0,>=1.9.0->zhipuai) (2.16.1)\n",
      "Requirement already satisfied: exceptiongroup>=1.0.2 in c:\\users\\administrator\\anaconda3\\lib\\site-packages (from anyio->httpx>=0.23.0->zhipuai) (1.1.2)\n",
      "Installing collected packages: pyjwt, zhipuai\n",
      "  Attempting uninstall: pyjwt\n",
      "    Found existing installation: PyJWT 2.4.0\n",
      "    Uninstalling PyJWT-2.4.0:\n",
      "      Successfully uninstalled PyJWT-2.4.0\n",
      "Successfully installed pyjwt-2.8.0 zhipuai-2.1.0.20240521\n"
     ]
    }
   ],
   "source": [
    "# !pip install zhipuai"
   ]
  },
  {
   "cell_type": "code",
   "execution_count": 23,
   "metadata": {},
   "outputs": [
    {
     "name": "stdout",
     "output_type": "stream",
     "text": [
      "Looking in indexes: https://pypi.tuna.tsinghua.edu.cn/simple\n",
      "Collecting jsonlines\n",
      "  Downloading https://pypi.tuna.tsinghua.edu.cn/packages/f8/62/d9ba6323b9202dd2fe166beab8a86d29465c41a0288cbe229fac60c1ab8d/jsonlines-4.0.0-py3-none-any.whl (8.7 kB)\n",
      "Requirement already satisfied: attrs>=19.2.0 in c:\\users\\administrator\\anaconda3\\lib\\site-packages (from jsonlines) (20.3.0)\n",
      "Installing collected packages: jsonlines\n",
      "Successfully installed jsonlines-4.0.0\n"
     ]
    }
   ],
   "source": [
    "!pip install jsonlines"
   ]
  },
  {
   "cell_type": "code",
   "execution_count": 48,
   "metadata": {},
   "outputs": [],
   "source": [
    "import jsonlines\n",
    " \n",
    "# 打开文件\n",
    "with jsonlines.open(\"data_part3.jsonl\", \"w\") as writer:\n",
    "    # 逐行写入数据\n",
    "    for item in jsonl:\n",
    "        writer.write(item)"
   ]
  },
  {
   "cell_type": "code",
   "execution_count": 27,
   "metadata": {},
   "outputs": [
    {
     "name": "stdout",
     "output_type": "stream",
     "text": [
      "1717740459_66f74de5ee5645158b5a41fc5fc33ed8\n"
     ]
    }
   ],
   "source": [
    "from zhipuai import ZhipuAI\n",
    "\n",
    "client = ZhipuAI(api_key=\"6575a441a697ed1b95e131f64cefda2e.zXOVuL9268dzvm55\") # 请填写您自己的APIKey\n",
    "  \n",
    "result = client.files.create(\n",
    "    file=open(\"data.jsonl\", \"rb\"),\n",
    "    purpose=\"batch\"\n",
    ")\n",
    "print(result.id)"
   ]
  },
  {
   "cell_type": "code",
   "execution_count": 29,
   "metadata": {},
   "outputs": [
    {
     "name": "stdout",
     "output_type": "stream",
     "text": [
      "Batch(id='batch_1798960393966067712', completion_window='24h', created_at=1717740555647, endpoint='/v4/chat/completions', input_file_id='1717740459_66f74de5ee5645158b5a41fc5fc33ed8', object='batch', status='validating', cancelled_at=None, cancelling_at=None, completed_at=None, error_file_id=None, errors=None, expired_at=None, expires_at=None, failed_at=None, finalizing_at=None, in_progress_at=None, metadata={'description': 'Sentiment classification'}, output_file_id=None, request_counts=BatchRequestCounts(completed=None, failed=None, total=101))\n"
     ]
    }
   ],
   "source": [
    "from zhipuai import ZhipuAI\n",
    " \n",
    "client = ZhipuAI(api_key=\"6575a441a697ed1b95e131f64cefda2e.zXOVuL9268dzvm55\")  # 填写您自己的APIKey\n",
    "\n",
    "create = client.batches.create(\n",
    "    input_file_id=result.id,\n",
    "    endpoint=\"/v4/chat/completions\", \n",
    "    completion_window=\"24h\", #完成时间只支持 24 小时\n",
    "    metadata={\n",
    "        \"description\": \"Sentiment classification\"\n",
    "    }\n",
    ")\n",
    "print(create)\n",
    "  "
   ]
  },
  {
   "cell_type": "code",
   "execution_count": 51,
   "metadata": {},
   "outputs": [
    {
     "name": "stdout",
     "output_type": "stream",
     "text": [
      "Batch(id='batch_1798960393966067712', completion_window='24h', created_at=1717740555000, endpoint='/v4/chat/completions', input_file_id='1717740459_66f74de5ee5645158b5a41fc5fc33ed8', object='batch', status='validating', cancelled_at=None, cancelling_at=None, completed_at=None, error_file_id='', errors=None, expired_at=None, expires_at=None, failed_at=None, finalizing_at=None, in_progress_at=None, metadata={'description': 'Sentiment classification'}, output_file_id='', request_counts=BatchRequestCounts(completed=0, failed=0, total=101))\n"
     ]
    }
   ],
   "source": [
    "batch_job = client.batches.retrieve(\"batch_1798960393966067712\")\n",
    "print(batch_job)"
   ]
  },
  {
   "cell_type": "code",
   "execution_count": null,
   "metadata": {},
   "outputs": [],
   "source": [
    "from zhipuai import ZhipuAI\n",
    " \n",
    "client = ZhipuAI(api_key=\"\")  # 填写您自己的APIKey\n",
    "# client.files.content返回 _legacy_response.HttpxBinaryResponseContent实例\n",
    "content = client.files.content(\"file-456\") \n",
    "\n",
    "# 使用write_to_file方法把返回结果写入文件\n",
    "content.write_to_file(\"write_to_file_batchoutput.jsonl\")\n",
    "  "
   ]
  }
 ],
 "metadata": {
  "kernelspec": {
   "display_name": "Python 3.8.8 ('base')",
   "language": "python",
   "name": "python3"
  },
  "language_info": {
   "codemirror_mode": {
    "name": "ipython",
    "version": 3
   },
   "file_extension": ".py",
   "mimetype": "text/x-python",
   "name": "python",
   "nbconvert_exporter": "python",
   "pygments_lexer": "ipython3",
   "version": "3.8.8"
  },
  "orig_nbformat": 4,
  "vscode": {
   "interpreter": {
    "hash": "57bc2b6ce032b5f0e93daa91901b7ea38a856826ef43aa9e95b6d3999f5310df"
   }
  }
 },
 "nbformat": 4,
 "nbformat_minor": 2
}
