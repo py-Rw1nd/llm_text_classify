{
 "cells": [
  {
   "cell_type": "code",
   "execution_count": 2,
   "metadata": {},
   "outputs": [],
   "source": [
    "import pandas as pd"
   ]
  },
  {
   "cell_type": "code",
   "execution_count": null,
   "metadata": {},
   "outputs": [],
   "source": [
    "data = pd.read_csv('model_base_final.csv',index_col=0)\n",
    "data.iloc[0]"
   ]
  },
  {
   "cell_type": "markdown",
   "metadata": {},
   "source": [
    "# 划分数据集"
   ]
  },
  {
   "cell_type": "code",
   "execution_count": 21,
   "metadata": {},
   "outputs": [],
   "source": [
    "select_lst = ['A正面','B负面','C中性','D讽刺','E无产品评价语意']\n",
    "split_lst = {}\n",
    "for i in select_lst:\n",
    "    lst = data[data['answer2']==i].index.to_list()\n",
    "    split_lst[i]=lst\n"
   ]
  },
  {
   "cell_type": "code",
   "execution_count": 45,
   "metadata": {},
   "outputs": [],
   "source": [
    "import random\n",
    "def random_sample(nums: list):\n",
    "\n",
    "    return random.sample(nums, int(len(nums)*random.uniform(0.45,0.55)) )"
   ]
  },
  {
   "cell_type": "code",
   "execution_count": 46,
   "metadata": {},
   "outputs": [],
   "source": [
    "lst_select_A = data.iloc[random_sample(split_lst['A正面'])]\n",
    "lst_select_B = data.iloc[random_sample(split_lst['B负面'])]\n",
    "lst_select_C = data.iloc[random_sample(split_lst['C中性'])]\n",
    "lst_select_D = data.iloc[random_sample(split_lst['D讽刺'])]\n",
    "lst_select_E = data.iloc[random_sample(split_lst['E无产品评价语意'])]"
   ]
  },
  {
   "cell_type": "code",
   "execution_count": 51,
   "metadata": {},
   "outputs": [],
   "source": [
    "# 训练集\n",
    "data_train = pd.concat([lst_select_A,lst_select_B,lst_select_C,lst_select_D,lst_select_E],axis=0)"
   ]
  },
  {
   "cell_type": "code",
   "execution_count": 58,
   "metadata": {},
   "outputs": [],
   "source": [
    "# 验证集\n",
    "temp = data.merge(data_train,how='outer',indicator=True)\n",
    "data_val = temp[temp['_merge'] == 'left_only']"
   ]
  },
  {
   "cell_type": "code",
   "execution_count": 59,
   "metadata": {},
   "outputs": [
    {
     "data": {
      "text/plain": [
       "(37123, 36869)"
      ]
     },
     "execution_count": 59,
     "metadata": {},
     "output_type": "execute_result"
    }
   ],
   "source": [
    "len(data_train),len(data_val) #(37123, 36869)"
   ]
  },
  {
   "cell_type": "code",
   "execution_count": 62,
   "metadata": {},
   "outputs": [],
   "source": [
    "data_train.to_csv('./dataset/train.csv',encoding='utf-8-sig')\n",
    "data_val.to_csv('./dataset/val.csv',encoding='utf-8-sig')"
   ]
  },
  {
   "cell_type": "markdown",
   "metadata": {},
   "source": [
    "## 结果情况验证"
   ]
  },
  {
   "cell_type": "code",
   "execution_count": 9,
   "metadata": {},
   "outputs": [],
   "source": [
    "data_val = pd.read_csv('./out_csv/val.csv',index_col=0)\n",
    "data_sft = pd.read_csv('./fine_turning_sft.csv', index_col=0)\n",
    "data_dpo = pd.read_csv('./dpo.csv',index_col=0)"
   ]
  },
  {
   "cell_type": "code",
   "execution_count": 16,
   "metadata": {},
   "outputs": [
    {
     "data": {
      "text/html": [
       "<div>\n",
       "<style scoped>\n",
       "    .dataframe tbody tr th:only-of-type {\n",
       "        vertical-align: middle;\n",
       "    }\n",
       "\n",
       "    .dataframe tbody tr th {\n",
       "        vertical-align: top;\n",
       "    }\n",
       "\n",
       "    .dataframe thead th {\n",
       "        text-align: right;\n",
       "    }\n",
       "</style>\n",
       "<table border=\"1\" class=\"dataframe\">\n",
       "  <thead>\n",
       "    <tr style=\"text-align: right;\">\n",
       "      <th></th>\n",
       "      <th>fine_turing</th>\n",
       "    </tr>\n",
       "  </thead>\n",
       "  <tbody>\n",
       "    <tr>\n",
       "      <th>0.0</th>\n",
       "      <td>\"分类标签\":\"B负面情感语义\"</td>\n",
       "    </tr>\n",
       "    <tr>\n",
       "      <th>1.0</th>\n",
       "      <td>\"分类标签\":\"B负面情感倾向性\"</td>\n",
       "    </tr>\n",
       "    <tr>\n",
       "      <th>2.0</th>\n",
       "      <td>\"分类标签\":\"B消极评价语义\"</td>\n",
       "    </tr>\n",
       "    <tr>\n",
       "      <th>3.0</th>\n",
       "      <td>\"分类标签\":\"B负面情感语义\"</td>\n",
       "    </tr>\n",
       "    <tr>\n",
       "      <th>4.0</th>\n",
       "      <td>\"分类标签\":\"B消极情绪倾向\"</td>\n",
       "    </tr>\n",
       "    <tr>\n",
       "      <th>...</th>\n",
       "      <td>...</td>\n",
       "    </tr>\n",
       "    <tr>\n",
       "      <th>36864.0</th>\n",
       "      <td>\"分类标签\":\"A积极评价语义倾向\"</td>\n",
       "    </tr>\n",
       "    <tr>\n",
       "      <th>36865.0</th>\n",
       "      <td>\"分类标签\":\"A正面情感语义\"</td>\n",
       "    </tr>\n",
       "    <tr>\n",
       "      <th>36866.0</th>\n",
       "      <td>\"分类标签\":\"A正面评价语境特征\"</td>\n",
       "    </tr>\n",
       "    <tr>\n",
       "      <th>36867.0</th>\n",
       "      <td>\"分类标签\":\"B负面评价性质\"</td>\n",
       "    </tr>\n",
       "    <tr>\n",
       "      <th>36868.0</th>\n",
       "      <td>\"分类标签\":\"A正面评价特征\"</td>\n",
       "    </tr>\n",
       "  </tbody>\n",
       "</table>\n",
       "<p>36869 rows × 1 columns</p>\n",
       "</div>"
      ],
      "text/plain": [
       "                fine_turing\n",
       "0.0        \"分类标签\":\"B负面情感语义\"\n",
       "1.0       \"分类标签\":\"B负面情感倾向性\"\n",
       "2.0        \"分类标签\":\"B消极评价语义\"\n",
       "3.0        \"分类标签\":\"B负面情感语义\"\n",
       "4.0        \"分类标签\":\"B消极情绪倾向\"\n",
       "...                     ...\n",
       "36864.0  \"分类标签\":\"A积极评价语义倾向\"\n",
       "36865.0    \"分类标签\":\"A正面情感语义\"\n",
       "36866.0  \"分类标签\":\"A正面评价语境特征\"\n",
       "36867.0    \"分类标签\":\"B负面评价性质\"\n",
       "36868.0    \"分类标签\":\"A正面评价特征\"\n",
       "\n",
       "[36869 rows x 1 columns]"
      ]
     },
     "execution_count": 16,
     "metadata": {},
     "output_type": "execute_result"
    }
   ],
   "source": [
    "data_dpo"
   ]
  },
  {
   "cell_type": "code",
   "execution_count": 3,
   "metadata": {},
   "outputs": [
    {
     "name": "stdout",
     "output_type": "stream",
     "text": [
      "qwen7_result_label_base 0.608641406059291\n",
      "qwen7_result_label_simple 0.7139873606552931\n",
      "qwen7_result_label_simple_4bit 0.7178388347934579\n",
      "qwen7_result_label_simple_4bit_temp.5 0.7185982803981665\n",
      "qwen7_result_label_simple_4bit_temp.3 0.7216089397596898\n"
     ]
    }
   ],
   "source": [
    "for i in data_val.columns[10:15]:\n",
    "    print(i,sum(data_val['answer2'] == data_val[i])/len(data_val))"
   ]
  },
  {
   "cell_type": "code",
   "execution_count": 4,
   "metadata": {},
   "outputs": [],
   "source": [
    "from sklearn.metrics import confusion_matrix,precision_score,recall_score,f1_score"
   ]
  },
  {
   "cell_type": "code",
   "execution_count": 7,
   "metadata": {},
   "outputs": [],
   "source": [
    "## 混淆矩阵\n",
    "## 将原始结果转为数值\n",
    "select_lst = ['A正面','B负面','C中性','D讽刺','E无产品评价语意']\n",
    "\n",
    "def convert_nums(x):\n",
    "    for ind,i in enumerate(select_lst):\n",
    "        if x == i:\n",
    "            return ind\n",
    "    return 5"
   ]
  },
  {
   "cell_type": "code",
   "execution_count": 6,
   "metadata": {},
   "outputs": [
    {
     "data": {
      "text/plain": [
       "2815"
      ]
     },
     "execution_count": 6,
     "metadata": {},
     "output_type": "execute_result"
    }
   ],
   "source": [
    "sum(data_val[data_val['answer2'] == data_val['qwen7_result_label_base']]['answer2'] == 'C中性')"
   ]
  },
  {
   "cell_type": "code",
   "execution_count": 7,
   "metadata": {},
   "outputs": [],
   "source": [
    "cm1 = confusion_matrix(data_val['answer2'].map(convert_nums),data_val['qwen7_result_label_base'].map(convert_nums),normalize='pred')"
   ]
  },
  {
   "cell_type": "code",
   "execution_count": 5,
   "metadata": {},
   "outputs": [],
   "source": [
    "import seaborn as sns\n",
    "import matplotlib.pyplot as plt"
   ]
  },
  {
   "cell_type": "code",
   "execution_count": 9,
   "metadata": {},
   "outputs": [
    {
     "data": {
      "image/png": "[encoded data removed]",
      "text/plain": [
       "<Figure size 720x432 with 5 Axes>"
      ]
     },
     "metadata": {
      "needs_background": "light"
     },
     "output_type": "display_data"
    }
   ],
   "source": [
    "# plt.figure(figsize=(12,8),dpi=150)\n",
    "# plt.figure(figsize=(12,6))\n",
    "# 准确率\n",
    "fig, axs = plt.subplots(1,5)\n",
    "col_lst = data_val.columns[10:15]\n",
    "fig.set_size_inches(10, 6)\n",
    "\n",
    "for i in range(5):\n",
    "    sns.heatmap(\n",
    "        confusion_matrix(data_val['answer2'].map(convert_nums),data_val[col_lst[i]].map(convert_nums),normalize='pred')*100,\n",
    "        ax=axs[i],\n",
    "        square=True,\n",
    "        cbar=None,\n",
    "        linewidths=0.05,\n",
    "        xticklabels=list('ABCDEF'),\n",
    "        yticklabels=list('ABCDEF'),\n",
    "        cmap='Blues',\n",
    "        annot=True,\n",
    "        fmt='.0f'\n",
    "\n",
    "    )\n",
    "plt.tight_layout()\n",
    "plt.show()\n",
    "    "
   ]
  },
  {
   "cell_type": "code",
   "execution_count": 88,
   "metadata": {},
   "outputs": [
    {
     "data": {
      "image/png": "[encoded data removed]",
      "text/plain": [
       "<Figure size 720x432 with 5 Axes>"
      ]
     },
     "metadata": {
      "needs_background": "light"
     },
     "output_type": "display_data"
    }
   ],
   "source": [
    "# plt.figure(figsize=(12,8),dpi=150)\n",
    "# plt.figure(figsize=(12,6))\n",
    "# 召回率\n",
    "fig, axs = plt.subplots(1,5)\n",
    "col_lst = data_val.columns[10:15]\n",
    "fig.set_size_inches(10, 6)\n",
    "\n",
    "for i in range(5):\n",
    "    \n",
    "    sns.heatmap(\n",
    "        confusion_matrix(data_val['answer2'].map(convert_nums),data_val[col_lst[i]].map(convert_nums),normalize='true')*100,\n",
    "        ax=axs[i],\n",
    "        square=True,\n",
    "        cbar=None,\n",
    "        linewidths=0.05,\n",
    "        xticklabels=list('ABCDEF'),\n",
    "        yticklabels=list('ABCDEF'),\n",
    "        cmap='Blues',\n",
    "        annot=True,\n",
    "        fmt='.0f'\n",
    "\n",
    "    )\n",
    "    if i > 0:\n",
    "        axs[i].yaxis.set_visible(False)\n",
    "\n",
    "axs[2].set_xlabel('Y_pred')\n",
    "axs[0].set_ylabel('Y_true')\n",
    "\n",
    "plt.tight_layout()\n",
    "plt.savefig('./pic/recall.png')\n",
    "plt.show()\n"
   ]
  },
  {
   "cell_type": "code",
   "execution_count": 7,
   "metadata": {},
   "outputs": [],
   "source": [
    "def get_label(x):\n",
    "    if x.replace('\"分类标签\":\"','')[0] in \"ABCDE\":\n",
    "        label = x.replace('\"分类标签\":\"','')[0]\n",
    "        \n",
    "    else:\n",
    "        label = \"E\"\n",
    "    return label\n"
   ]
  },
  {
   "cell_type": "code",
   "execution_count": 86,
   "metadata": {},
   "outputs": [
    {
     "name": "stdout",
     "output_type": "stream",
     "text": [
      "qwen7_result_label_base 0.6503587372740801\n",
      "qwen7_result_label_simple 0.6911549913403765\n",
      "qwen7_result_label_simple_4bit 0.672127620068189\n",
      "qwen7_result_label_simple_4bit_temp.5 0.6721306920478538\n",
      "qwen7_result_label_simple_4bit_temp.3 0.6755205504616352\n"
     ]
    }
   ],
   "source": [
    "for i in data_val.columns[10:15]:\n",
    "    print(i,f1_score(data_val['answer2'].map(convert_nums),data_val[i].map(convert_nums),average='micro'))"
   ]
  },
  {
   "cell_type": "code",
   "execution_count": 26,
   "metadata": {},
   "outputs": [
    {
     "name": "stdout",
     "output_type": "stream",
     "text": [
      "qwen7_result_label_base 0.608641406059291\n",
      "qwen7_result_label_simple 0.7139873606552931\n",
      "qwen7_result_label_simple_4bit 0.7178388347934579\n",
      "qwen7_result_label_simple_4bit_temp.5 0.7185982803981665\n",
      "qwen7_result_label_simple_4bit_temp.3 0.7216089397596898\n"
     ]
    }
   ],
   "source": [
    "for i in data_val.columns[10:15]:\n",
    "    print(i,precision_score(data_val['answer2'].map(convert_nums),data_val[i].map(convert_nums),average='micro'))"
   ]
  },
  {
   "cell_type": "code",
   "execution_count": 27,
   "metadata": {},
   "outputs": [
    {
     "name": "stdout",
     "output_type": "stream",
     "text": [
      "qwen7_result_label_base 0.608641406059291\n",
      "qwen7_result_label_simple 0.7139873606552931\n",
      "qwen7_result_label_simple_4bit 0.7178388347934579\n",
      "qwen7_result_label_simple_4bit_temp.5 0.7185982803981665\n",
      "qwen7_result_label_simple_4bit_temp.3 0.7216089397596898\n"
     ]
    }
   ],
   "source": [
    "for i in data_val.columns[10:15]:\n",
    "    print(i,recall_score(data_val['answer2'].map(convert_nums),data_val[i].map(convert_nums),average='micro'))"
   ]
  }
 ],
 "metadata": {
  "kernelspec": {
   "display_name": "Python 3.8.8 ('base')",
   "language": "python",
   "name": "python3"
  },
  "language_info": {
   "codemirror_mode": {
    "name": "ipython",
    "version": 3
   },
   "file_extension": ".py",
   "mimetype": "text/x-python",
   "name": "python",
   "nbconvert_exporter": "python",
   "pygments_lexer": "ipython3",
   "version": "3.8.8"
  },
  "vscode": {
   "interpreter": {
    "hash": "57bc2b6ce032b5f0e93daa91901b7ea38a856826ef43aa9e95b6d3999f5310df"
   }
  }
 },
 "nbformat": 4,
 "nbformat_minor": 2
}
