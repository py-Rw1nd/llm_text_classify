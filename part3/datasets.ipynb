{
 "cells": [
  {
   "cell_type": "code",
   "execution_count": 2,
   "metadata": {},
   "outputs": [],
   "source": [
    "from transformers import AutoTokenizer, AutoModelForCausalLM, DataCollatorForSeq2Seq, TrainingArguments, Trainer\n",
    "from datasets import Dataset"
   ]
  },
  {
   "cell_type": "code",
   "execution_count": 3,
   "metadata": {},
   "outputs": [],
   "source": [
    "import pandas as pd"
   ]
  },
  {
   "cell_type": "code",
   "execution_count": 25,
   "metadata": {},
   "outputs": [
    {
     "data": {
      "text/html": [
       "<div>\n",
       "<style scoped>\n",
       "    .dataframe tbody tr th:only-of-type {\n",
       "        vertical-align: middle;\n",
       "    }\n",
       "\n",
       "    .dataframe tbody tr th {\n",
       "        vertical-align: top;\n",
       "    }\n",
       "\n",
       "    .dataframe thead th {\n",
       "        text-align: right;\n",
       "    }\n",
       "</style>\n",
       "<table border=\"1\" class=\"dataframe\">\n",
       "  <thead>\n",
       "    <tr style=\"text-align: right;\">\n",
       "      <th></th>\n",
       "      <th>Unnamed: 0</th>\n",
       "      <th>custom_id</th>\n",
       "      <th>system</th>\n",
       "      <th>user1</th>\n",
       "      <th>assistant1</th>\n",
       "      <th>user2</th>\n",
       "      <th>assistant2</th>\n",
       "      <th>total_tokens</th>\n",
       "      <th>answer1</th>\n",
       "      <th>answer2</th>\n",
       "      <th>qwen7b</th>\n",
       "      <th>qwen7_result_label_base</th>\n",
       "      <th>qwen7_result_label_simple</th>\n",
       "      <th>qwen7_result_label_simple_4bit</th>\n",
       "      <th>qwen7_result_label_simple_4bit_temp.5</th>\n",
       "      <th>qwen7_result_label_simple_4bit_temp.3</th>\n",
       "      <th>_merge</th>\n",
       "    </tr>\n",
       "  </thead>\n",
       "  <tbody>\n",
       "    <tr>\n",
       "      <th>0</th>\n",
       "      <td>0</td>\n",
       "      <td>request-1</td>\n",
       "      <td>{'role': 'system', 'content': '你是一个语义分类器.'}</td>\n",
       "      <td>{'role': 'user', 'content': '#任务：以下是对卷烟产品的评论，按...</td>\n",
       "      <td>{'role': 'assistant', 'content': '\"分类标签\": \"B负面...</td>\n",
       "      <td>{'role': 'user', 'content': '请再次确认你的答案是否正确，并且分...</td>\n",
       "      <td>{'role': 'assistant', 'content': '我确认我的答案是正确的，...</td>\n",
       "      <td>233</td>\n",
       "      <td>B负面</td>\n",
       "      <td>B负面</td>\n",
       "      <td>\"分类标签\": \"B负面\",\\n\"理由\": \"评论中的词汇'太难抽'、'又苦又涩'均带有消极...</td>\n",
       "      <td>B负面</td>\n",
       "      <td>B负面</td>\n",
       "      <td>B负面</td>\n",
       "      <td>B负面</td>\n",
       "      <td>B负面</td>\n",
       "      <td>left_only</td>\n",
       "    </tr>\n",
       "    <tr>\n",
       "      <th>1</th>\n",
       "      <td>1</td>\n",
       "      <td>request-2</td>\n",
       "      <td>{'role': 'system', 'content': '你是一个语义分类器.'}</td>\n",
       "      <td>{'role': 'user', 'content': '#任务：以下是对卷烟产品的评论，按...</td>\n",
       "      <td>{'role': 'assistant', 'content': '\"分类标签\": \"B负面...</td>\n",
       "      <td>{'role': 'user', 'content': '请再次确认你的答案是否正确，并且分...</td>\n",
       "      <td>{'role': 'assistant', 'content': '抱歉造成了混淆。根据您的...</td>\n",
       "      <td>312</td>\n",
       "      <td>B负面</td>\n",
       "      <td>B负面</td>\n",
       "      <td>\"分类标签\": \"B负面\",\\n\"理由\": \"评论中的'味道真心不好'和'性价比真的低'表达...</td>\n",
       "      <td>B负面</td>\n",
       "      <td>D讽刺</td>\n",
       "      <td>B负面</td>\n",
       "      <td>B负面</td>\n",
       "      <td>B负面</td>\n",
       "      <td>left_only</td>\n",
       "    </tr>\n",
       "    <tr>\n",
       "      <th>2</th>\n",
       "      <td>2</td>\n",
       "      <td>request-3</td>\n",
       "      <td>{'role': 'system', 'content': '你是一个语义分类器.'}</td>\n",
       "      <td>{'role': 'user', 'content': '#任务：以下是对卷烟产品的评论，按...</td>\n",
       "      <td>{'role': 'assistant', 'content': '\"分类标签\": \"B负面...</td>\n",
       "      <td>{'role': 'user', 'content': '请再次确认你的答案是否正确，并且分...</td>\n",
       "      <td>{'role': 'assistant', 'content': '对不起，我之前的回答没有...</td>\n",
       "      <td>282</td>\n",
       "      <td>B负面</td>\n",
       "      <td>B负面</td>\n",
       "      <td>\"分类标签\": \"B负面\",\\n\"理由\": \"评论中的\\\"没咖啡味，不好抽\\\"表达了对产品的...</td>\n",
       "      <td>B负面</td>\n",
       "      <td>B负面</td>\n",
       "      <td>B负面</td>\n",
       "      <td>B负面</td>\n",
       "      <td>B负面</td>\n",
       "      <td>left_only</td>\n",
       "    </tr>\n",
       "    <tr>\n",
       "      <th>3</th>\n",
       "      <td>3</td>\n",
       "      <td>request-4</td>\n",
       "      <td>{'role': 'system', 'content': '你是一个语义分类器.'}</td>\n",
       "      <td>{'role': 'user', 'content': '#任务：以下是对卷烟产品的评论，按...</td>\n",
       "      <td>{'role': 'assistant', 'content': '\"分类标签\": \"B负面...</td>\n",
       "      <td>{'role': 'user', 'content': '请再次确认你的答案是否正确，并且分...</td>\n",
       "      <td>{'role': 'assistant', 'content': '抱歉造成了混淆。根据您提...</td>\n",
       "      <td>289</td>\n",
       "      <td>B负面</td>\n",
       "      <td>B负面</td>\n",
       "      <td>\"分类标签\": \"B负面\",\\n\"理由\": \"评论中提到的产品体验是负面的。评论者表示试用后...</td>\n",
       "      <td>B负面</td>\n",
       "      <td>B负面</td>\n",
       "      <td>B负面</td>\n",
       "      <td>B负面</td>\n",
       "      <td>B负面</td>\n",
       "      <td>left_only</td>\n",
       "    </tr>\n",
       "    <tr>\n",
       "      <th>4</th>\n",
       "      <td>4</td>\n",
       "      <td>request-5</td>\n",
       "      <td>{'role': 'system', 'content': '你是一个语义分类器.'}</td>\n",
       "      <td>{'role': 'user', 'content': '#任务：以下是对卷烟产品的评论，按...</td>\n",
       "      <td>{'role': 'assistant', 'content': '\"分类标签\": \"B负面...</td>\n",
       "      <td>{'role': 'user', 'content': '请再次确认你的答案是否正确，并且分...</td>\n",
       "      <td>{'role': 'assistant', 'content': '抱歉造成了混淆。根据您提...</td>\n",
       "      <td>243</td>\n",
       "      <td>B负面</td>\n",
       "      <td>B负面</td>\n",
       "      <td>\"分类标签\": \"B负面\",\\n\"理由\": \"评论中的\\\"太TM难抽了\\\"表达出对卷烟产品的...</td>\n",
       "      <td>B负面</td>\n",
       "      <td>B负面</td>\n",
       "      <td>B负面</td>\n",
       "      <td>B负面</td>\n",
       "      <td>B负面</td>\n",
       "      <td>left_only</td>\n",
       "    </tr>\n",
       "  </tbody>\n",
       "</table>\n",
       "</div>"
      ],
      "text/plain": [
       "   Unnamed: 0  custom_id                                       system  \\\n",
       "0           0  request-1  {'role': 'system', 'content': '你是一个语义分类器.'}   \n",
       "1           1  request-2  {'role': 'system', 'content': '你是一个语义分类器.'}   \n",
       "2           2  request-3  {'role': 'system', 'content': '你是一个语义分类器.'}   \n",
       "3           3  request-4  {'role': 'system', 'content': '你是一个语义分类器.'}   \n",
       "4           4  request-5  {'role': 'system', 'content': '你是一个语义分类器.'}   \n",
       "\n",
       "                                               user1  \\\n",
       "0  {'role': 'user', 'content': '#任务：以下是对卷烟产品的评论，按...   \n",
       "1  {'role': 'user', 'content': '#任务：以下是对卷烟产品的评论，按...   \n",
       "2  {'role': 'user', 'content': '#任务：以下是对卷烟产品的评论，按...   \n",
       "3  {'role': 'user', 'content': '#任务：以下是对卷烟产品的评论，按...   \n",
       "4  {'role': 'user', 'content': '#任务：以下是对卷烟产品的评论，按...   \n",
       "\n",
       "                                          assistant1  \\\n",
       "0  {'role': 'assistant', 'content': '\"分类标签\": \"B负面...   \n",
       "1  {'role': 'assistant', 'content': '\"分类标签\": \"B负面...   \n",
       "2  {'role': 'assistant', 'content': '\"分类标签\": \"B负面...   \n",
       "3  {'role': 'assistant', 'content': '\"分类标签\": \"B负面...   \n",
       "4  {'role': 'assistant', 'content': '\"分类标签\": \"B负面...   \n",
       "\n",
       "                                               user2  \\\n",
       "0  {'role': 'user', 'content': '请再次确认你的答案是否正确，并且分...   \n",
       "1  {'role': 'user', 'content': '请再次确认你的答案是否正确，并且分...   \n",
       "2  {'role': 'user', 'content': '请再次确认你的答案是否正确，并且分...   \n",
       "3  {'role': 'user', 'content': '请再次确认你的答案是否正确，并且分...   \n",
       "4  {'role': 'user', 'content': '请再次确认你的答案是否正确，并且分...   \n",
       "\n",
       "                                          assistant2  total_tokens answer1  \\\n",
       "0  {'role': 'assistant', 'content': '我确认我的答案是正确的，...           233     B负面   \n",
       "1  {'role': 'assistant', 'content': '抱歉造成了混淆。根据您的...           312     B负面   \n",
       "2  {'role': 'assistant', 'content': '对不起，我之前的回答没有...           282     B负面   \n",
       "3  {'role': 'assistant', 'content': '抱歉造成了混淆。根据您提...           289     B负面   \n",
       "4  {'role': 'assistant', 'content': '抱歉造成了混淆。根据您提...           243     B负面   \n",
       "\n",
       "  answer2                                             qwen7b  \\\n",
       "0     B负面  \"分类标签\": \"B负面\",\\n\"理由\": \"评论中的词汇'太难抽'、'又苦又涩'均带有消极...   \n",
       "1     B负面  \"分类标签\": \"B负面\",\\n\"理由\": \"评论中的'味道真心不好'和'性价比真的低'表达...   \n",
       "2     B负面  \"分类标签\": \"B负面\",\\n\"理由\": \"评论中的\\\"没咖啡味，不好抽\\\"表达了对产品的...   \n",
       "3     B负面  \"分类标签\": \"B负面\",\\n\"理由\": \"评论中提到的产品体验是负面的。评论者表示试用后...   \n",
       "4     B负面  \"分类标签\": \"B负面\",\\n\"理由\": \"评论中的\\\"太TM难抽了\\\"表达出对卷烟产品的...   \n",
       "\n",
       "  qwen7_result_label_base qwen7_result_label_simple  \\\n",
       "0                     B负面                       B负面   \n",
       "1                     B负面                       D讽刺   \n",
       "2                     B负面                       B负面   \n",
       "3                     B负面                       B负面   \n",
       "4                     B负面                       B负面   \n",
       "\n",
       "  qwen7_result_label_simple_4bit qwen7_result_label_simple_4bit_temp.5  \\\n",
       "0                            B负面                                   B负面   \n",
       "1                            B负面                                   B负面   \n",
       "2                            B负面                                   B负面   \n",
       "3                            B负面                                   B负面   \n",
       "4                            B负面                                   B负面   \n",
       "\n",
       "  qwen7_result_label_simple_4bit_temp.3     _merge  \n",
       "0                                   B负面  left_only  \n",
       "1                                   B负面  left_only  \n",
       "2                                   B负面  left_only  \n",
       "3                                   B负面  left_only  \n",
       "4                                   B负面  left_only  "
      ]
     },
     "execution_count": 25,
     "metadata": {},
     "output_type": "execute_result"
    }
   ],
   "source": [
    "data = pd.read_csv('./autodl-tmp/dataset/val.csv')\n",
    "data.head()"
   ]
  },
  {
   "cell_type": "code",
   "execution_count": 26,
   "metadata": {},
   "outputs": [],
   "source": [
    "data_for_dataset = data[['system','user1','assistant1','answer2']]"
   ]
  },
  {
   "cell_type": "code",
   "execution_count": 27,
   "metadata": {},
   "outputs": [],
   "source": [
    "data_for_dataset.columns = ['instruction','input','response_total','response']"
   ]
  },
  {
   "cell_type": "code",
   "execution_count": 28,
   "metadata": {},
   "outputs": [],
   "source": [
    "def format(x):\n",
    "    return eval(x)['content'].replace('\\'\\'\\'','')"
   ]
  },
  {
   "cell_type": "code",
   "execution_count": 32,
   "metadata": {},
   "outputs": [
    {
     "name": "stderr",
     "output_type": "stream",
     "text": [
      "/tmp/ipykernel_1431/3008227810.py:1: SettingWithCopyWarning: \n",
      "A value is trying to be set on a copy of a slice from a DataFrame.\n",
      "Try using .loc[row_indexer,col_indexer] = value instead\n",
      "\n",
      "See the caveats in the documentation: https://pandas.pydata.org/pandas-docs/stable/user_guide/indexing.html#returning-a-view-versus-a-copy\n",
      "  data_for_dataset['response_total'] = data_for_dataset['response_total'].map(format)\n"
     ]
    }
   ],
   "source": [
    "data_for_dataset['response_total'] = data_for_dataset['response_total'].map(format)"
   ]
  },
  {
   "cell_type": "code",
   "execution_count": 33,
   "metadata": {},
   "outputs": [
    {
     "data": {
      "text/html": [
       "<div>\n",
       "<style scoped>\n",
       "    .dataframe tbody tr th:only-of-type {\n",
       "        vertical-align: middle;\n",
       "    }\n",
       "\n",
       "    .dataframe tbody tr th {\n",
       "        vertical-align: top;\n",
       "    }\n",
       "\n",
       "    .dataframe thead th {\n",
       "        text-align: right;\n",
       "    }\n",
       "</style>\n",
       "<table border=\"1\" class=\"dataframe\">\n",
       "  <thead>\n",
       "    <tr style=\"text-align: right;\">\n",
       "      <th></th>\n",
       "      <th>instruction</th>\n",
       "      <th>input</th>\n",
       "      <th>response_total</th>\n",
       "      <th>response</th>\n",
       "    </tr>\n",
       "  </thead>\n",
       "  <tbody>\n",
       "    <tr>\n",
       "      <th>0</th>\n",
       "      <td>你是一个语义分类器.</td>\n",
       "      <td>#任务：以下是对卷烟产品的评论，按照分类标签内容语义进行评价，简要说明理由# 评论：revi...</td>\n",
       "      <td>\"分类标签\": \"B负面\",\"理由\": \"评论中的词汇'太难抽'、'又苦又涩'表达了消费者对...</td>\n",
       "      <td>B负面</td>\n",
       "    </tr>\n",
       "    <tr>\n",
       "      <th>1</th>\n",
       "      <td>你是一个语义分类器.</td>\n",
       "      <td>#任务：以下是对卷烟产品的评论，按照分类标签内容语义进行评价，简要说明理由# 评论：revi...</td>\n",
       "      <td>\"分类标签\": \"B负面\",\"理由\": \"评论中明确指出产品的味道不好，性价比低，这些都是直...</td>\n",
       "      <td>B负面</td>\n",
       "    </tr>\n",
       "    <tr>\n",
       "      <th>2</th>\n",
       "      <td>你是一个语义分类器.</td>\n",
       "      <td>#任务：以下是对卷烟产品的评论，按照分类标签内容语义进行评价，简要说明理由# 评论：revi...</td>\n",
       "      <td>\"分类标签\": \"B负面\",\"理由\": \"评论中明确表达了对于产品的不满，'没咖啡味，不好抽...</td>\n",
       "      <td>B负面</td>\n",
       "    </tr>\n",
       "    <tr>\n",
       "      <th>3</th>\n",
       "      <td>你是一个语义分类器.</td>\n",
       "      <td>#任务：以下是对卷烟产品的评论，按照分类标签内容语义进行评价，简要说明理由# 评论：revi...</td>\n",
       "      <td>\"分类标签\": \"B负面\",\"理由\": \"评论中明确表示了对产品的不满，提到了‘毫无咖啡味’...</td>\n",
       "      <td>B负面</td>\n",
       "    </tr>\n",
       "    <tr>\n",
       "      <th>4</th>\n",
       "      <td>你是一个语义分类器.</td>\n",
       "      <td>#任务：以下是对卷烟产品的评论，按照分类标签内容语义进行评价，简要说明理由# 评论：revi...</td>\n",
       "      <td>\"分类标签\": \"B负面\",\"理由\": \"评论中的“太TM难抽了”表达了强烈的负面情绪，'T...</td>\n",
       "      <td>B负面</td>\n",
       "    </tr>\n",
       "    <tr>\n",
       "      <th>...</th>\n",
       "      <td>...</td>\n",
       "      <td>...</td>\n",
       "      <td>...</td>\n",
       "      <td>...</td>\n",
       "    </tr>\n",
       "    <tr>\n",
       "      <th>36864</th>\n",
       "      <td>你是一个语义分类器.</td>\n",
       "      <td>#任务：以下是对卷烟产品的评论，按照分类标签内容语义进行评价，简要说明理由# 评论：revi...</td>\n",
       "      <td>\"分类标签\": \"A正面\",\"理由\": \"评论者对于卷烟产品的描述带有明显的怀旧情感，提到了...</td>\n",
       "      <td>A正面</td>\n",
       "    </tr>\n",
       "    <tr>\n",
       "      <th>36865</th>\n",
       "      <td>你是一个语义分类器.</td>\n",
       "      <td>#任务：以下是对卷烟产品的评论，按照分类标签内容语义进行评价，简要说明理由# 评论：revi...</td>\n",
       "      <td>\"分类标签\": \"A正面\",\"理由\": \"评论中提到‘特别好抽’，并且将产品与同等价位的其他...</td>\n",
       "      <td>A正面</td>\n",
       "    </tr>\n",
       "    <tr>\n",
       "      <th>36866</th>\n",
       "      <td>你是一个语义分类器.</td>\n",
       "      <td>#任务：以下是对卷烟产品的评论，按照分类标签内容语义进行评价，简要说明理由# 评论：revi...</td>\n",
       "      <td>\"分类标签\": \"A正面\",\"理由\": \"评论中提到‘太想念这个味道了’和‘太棒了’，明显表...</td>\n",
       "      <td>A正面</td>\n",
       "    </tr>\n",
       "    <tr>\n",
       "      <th>36867</th>\n",
       "      <td>你是一个语义分类器.</td>\n",
       "      <td>#任务：以下是对卷烟产品的评论，按照分类标签内容语义进行评价，简要说明理由# 评论：revi...</td>\n",
       "      <td>\"分类标签\": \"B负面\",\"理由\": \"评论中提到了‘比硬中华劲大’，这通常意味着香烟的口...</td>\n",
       "      <td>C中性</td>\n",
       "    </tr>\n",
       "    <tr>\n",
       "      <th>36868</th>\n",
       "      <td>你是一个语义分类器.</td>\n",
       "      <td>#任务：以下是对卷烟产品的评论，按照分类标签内容语义进行评价，简要说明理由# 评论：revi...</td>\n",
       "      <td>\"分类标签\": \"A正面\",\"理由\": \"‘兰花香’一般用来形容卷烟的香味，给人以美好的联想...</td>\n",
       "      <td>A正面</td>\n",
       "    </tr>\n",
       "  </tbody>\n",
       "</table>\n",
       "<p>36869 rows × 4 columns</p>\n",
       "</div>"
      ],
      "text/plain": [
       "      instruction                                              input  \\\n",
       "0      你是一个语义分类器.  #任务：以下是对卷烟产品的评论，按照分类标签内容语义进行评价，简要说明理由# 评论：revi...   \n",
       "1      你是一个语义分类器.  #任务：以下是对卷烟产品的评论，按照分类标签内容语义进行评价，简要说明理由# 评论：revi...   \n",
       "2      你是一个语义分类器.  #任务：以下是对卷烟产品的评论，按照分类标签内容语义进行评价，简要说明理由# 评论：revi...   \n",
       "3      你是一个语义分类器.  #任务：以下是对卷烟产品的评论，按照分类标签内容语义进行评价，简要说明理由# 评论：revi...   \n",
       "4      你是一个语义分类器.  #任务：以下是对卷烟产品的评论，按照分类标签内容语义进行评价，简要说明理由# 评论：revi...   \n",
       "...           ...                                                ...   \n",
       "36864  你是一个语义分类器.  #任务：以下是对卷烟产品的评论，按照分类标签内容语义进行评价，简要说明理由# 评论：revi...   \n",
       "36865  你是一个语义分类器.  #任务：以下是对卷烟产品的评论，按照分类标签内容语义进行评价，简要说明理由# 评论：revi...   \n",
       "36866  你是一个语义分类器.  #任务：以下是对卷烟产品的评论，按照分类标签内容语义进行评价，简要说明理由# 评论：revi...   \n",
       "36867  你是一个语义分类器.  #任务：以下是对卷烟产品的评论，按照分类标签内容语义进行评价，简要说明理由# 评论：revi...   \n",
       "36868  你是一个语义分类器.  #任务：以下是对卷烟产品的评论，按照分类标签内容语义进行评价，简要说明理由# 评论：revi...   \n",
       "\n",
       "                                          response_total response  \n",
       "0      \"分类标签\": \"B负面\",\"理由\": \"评论中的词汇'太难抽'、'又苦又涩'表达了消费者对...      B负面  \n",
       "1      \"分类标签\": \"B负面\",\"理由\": \"评论中明确指出产品的味道不好，性价比低，这些都是直...      B负面  \n",
       "2      \"分类标签\": \"B负面\",\"理由\": \"评论中明确表达了对于产品的不满，'没咖啡味，不好抽...      B负面  \n",
       "3      \"分类标签\": \"B负面\",\"理由\": \"评论中明确表示了对产品的不满，提到了‘毫无咖啡味’...      B负面  \n",
       "4      \"分类标签\": \"B负面\",\"理由\": \"评论中的“太TM难抽了”表达了强烈的负面情绪，'T...      B负面  \n",
       "...                                                  ...      ...  \n",
       "36864  \"分类标签\": \"A正面\",\"理由\": \"评论者对于卷烟产品的描述带有明显的怀旧情感，提到了...      A正面  \n",
       "36865  \"分类标签\": \"A正面\",\"理由\": \"评论中提到‘特别好抽’，并且将产品与同等价位的其他...      A正面  \n",
       "36866  \"分类标签\": \"A正面\",\"理由\": \"评论中提到‘太想念这个味道了’和‘太棒了’，明显表...      A正面  \n",
       "36867  \"分类标签\": \"B负面\",\"理由\": \"评论中提到了‘比硬中华劲大’，这通常意味着香烟的口...      C中性  \n",
       "36868  \"分类标签\": \"A正面\",\"理由\": \"‘兰花香’一般用来形容卷烟的香味，给人以美好的联想...      A正面  \n",
       "\n",
       "[36869 rows x 4 columns]"
      ]
     },
     "execution_count": 33,
     "metadata": {},
     "output_type": "execute_result"
    }
   ],
   "source": [
    "data_for_dataset"
   ]
  },
  {
   "cell_type": "code",
   "execution_count": 22,
   "metadata": {},
   "outputs": [],
   "source": [
    "train_data = Dataset.from_pandas(data_for_dataset)"
   ]
  },
  {
   "cell_type": "code",
   "execution_count": 34,
   "metadata": {},
   "outputs": [],
   "source": [
    "val_data = Dataset.from_pandas(data_for_dataset)"
   ]
  },
  {
   "cell_type": "code",
   "execution_count": 36,
   "metadata": {
    "scrolled": true
   },
   "outputs": [
    {
     "data": {
      "application/vnd.jupyter.widget-view+json": {
       "model_id": "1ea5031b62c54fe6b3cd5efe90884dfa",
       "version_major": 2,
       "version_minor": 0
      },
      "text/plain": [
       "Saving the dataset (0/1 shards):   0%|          | 0/36869 [00:00<?, ? examples/s]"
      ]
     },
     "metadata": {},
     "output_type": "display_data"
    }
   ],
   "source": [
    "val_data.save_to_disk('./autodl-tmp/dataset/datasets_val')"
   ]
  },
  {
   "cell_type": "code",
   "execution_count": 40,
   "metadata": {},
   "outputs": [
    {
     "data": {
      "text/plain": [
       "Dataset({\n",
       "    features: ['instruction', 'input', 'response_total', 'response'],\n",
       "    num_rows: 36869\n",
       "})"
      ]
     },
     "execution_count": 40,
     "metadata": {},
     "output_type": "execute_result"
    }
   ],
   "source": [
    "Dataset.load_from_disk('./autodl-tmp/dataset/datasets_val')"
   ]
  },
  {
   "cell_type": "code",
   "execution_count": null,
   "metadata": {},
   "outputs": [],
   "source": []
  }
 ],
 "metadata": {
  "kernelspec": {
   "display_name": "Python 3 (ipykernel)",
   "language": "python",
   "name": "python3"
  },
  "language_info": {
   "codemirror_mode": {
    "name": "ipython",
    "version": 3
   },
   "file_extension": ".py",
   "mimetype": "text/x-python",
   "name": "python",
   "nbconvert_exporter": "python",
   "pygments_lexer": "ipython3",
   "version": "3.12.3"
  },
  "vscode": {
   "interpreter": {
    "hash": "57bc2b6ce032b5f0e93daa91901b7ea38a856826ef43aa9e95b6d3999f5310df"
   }
  }
 },
 "nbformat": 4,
 "nbformat_minor": 4
}
